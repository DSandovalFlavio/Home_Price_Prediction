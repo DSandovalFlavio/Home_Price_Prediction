{
 "cells": [
  {
   "cell_type": "code",
   "metadata": {
    "tags": [],
    "cell_id": "00000-a5e465ce-50a5-4e42-a15b-0a673712da48",
    "deepnote_to_be_reexecuted": false,
    "source_hash": "29001720",
    "execution_start": 1628912758266,
    "execution_millis": 1076,
    "deepnote_cell_type": "code"
   },
   "source": "import pandas as pd\nimport numpy as np\nimport seaborn as sns\nimport matplotlib.pyplot as plt\nimport statistics as stat",
   "outputs": [],
   "execution_count": null
  },
  {
   "cell_type": "code",
   "metadata": {
    "tags": [],
    "cell_id": "00001-02986e0f-373f-4aa9-bfd9-906dc1238d9f",
    "deepnote_to_be_reexecuted": false,
    "source_hash": "de8fdcd2",
    "execution_start": 1628912761197,
    "execution_millis": 34,
    "deepnote_cell_type": "code"
   },
   "source": "df_train = pd.read_csv('train.csv')",
   "outputs": [],
   "execution_count": null
  },
  {
   "cell_type": "code",
   "metadata": {
    "tags": [],
    "cell_id": "00003-0ae7070b-128b-4ca4-bf91-f94e8967b2e0",
    "deepnote_to_be_reexecuted": false,
    "source_hash": "c9018d9a",
    "execution_start": 1628912768907,
    "execution_millis": 588,
    "deepnote_cell_type": "code"
   },
   "source": "df_train.LotFrontage = df_train.LotFrontage.fillna(0)\ndf_train.Alley = df_train.Alley.fillna('SinCall')\ndf_train.Utilities = df_train.Utilities.fillna('AllPub')\ndf_train.Exterior1st = df_train.Exterior1st.fillna(stat.mode(df_train.Exterior1st))\ndf_train.Exterior2nd = df_train.Exterior2nd.fillna(stat.mode(df_train.Exterior2nd))\ndf_train.MasVnrType = df_train.MasVnrType.fillna(stat.mode(df_train.MasVnrType))\ndf_train.MasVnrType= df_train.MasVnrType.replace('None','Ninguno')\ndf_train['MasVnrArea'] = df_train.apply(lambda x: 0 if x.MasVnrType == 'Ninguno' else x.MasVnrArea, axis=1)\ndf_train.BsmtQual = df_train.BsmtQual.fillna('SNS')\ndf_train['BsmtCond'] = df_train.apply(lambda x: 'SNS' if x.BsmtQual == 'SNS' else x.BsmtCond, axis=1)\ndf_train['BsmtExposure'] = df_train.apply(lambda x: 'SNS' if x.BsmtQual == 'SNS' else x.BsmtExposure, axis=1)\ndf_train.BsmtExposure = df_train.apply(lambda x: stat.mode(df_train[df_train.BsmtCond == x.BsmtCond]['BsmtExposure']) if pd.isna(x.BsmtExposure) else x.BsmtExposure, axis=1)\ndf_train['BsmtFinType1'] = df_train.apply(lambda x: 'SNS' if x.BsmtQual == 'SNS' else x.BsmtFinType1, axis=1)\ndf_train['BsmtFinType2'] = df_train.apply(lambda x: 'SNS' if x.BsmtQual == 'SNS' else x.BsmtFinType2, axis=1)\ndf_train.BsmtFinType2 = df_train.apply(lambda x: stat.mode(df_train[df_train.BsmtCond == x.BsmtCond]['BsmtFinType2']) if pd.isna(x.BsmtFinType2) else x.BsmtFinType2, axis=1)\ndf_train.Electrical = df_train.Electrical.fillna(stat.mode(df_train.Electrical))\ndf_train.FireplaceQu = df_train.FireplaceQu.fillna('SNCH')\ndf_train.GarageType = df_train.GarageType.fillna('SNGAR')\ndf_train['GarageQual'] = df_train.apply(lambda x: 'SNGAR' if x.GarageType == 'SNGAR' else x.GarageQual, axis=1)\ndf_train['GarageCond'] = df_train.apply(lambda x: 'SNGAR' if x.GarageType == 'SNGAR' else x.GarageCond, axis=1)\ndf_train['GarageFinish'] = df_train.apply(lambda x: 'SNGAR' if x.GarageType == 'SNGAR' else x.GarageFinish, axis=1)\ndf_train.PoolQC = df_train.PoolQC.fillna('SNP')\ndf_train.Fence = df_train.Fence.fillna('SNCER')\ndf_train.MiscFeature = df_train.MiscFeature.fillna('SNFEA')\n#df_train.GarageYrBlt = df_train.GarageYrBlt.fillna(0)",
   "outputs": [],
   "execution_count": null
  },
  {
   "cell_type": "code",
   "metadata": {
    "tags": [],
    "cell_id": "00003-97735ada-dfe3-4937-9005-0ecb0ed5f100",
    "deepnote_to_be_reexecuted": false,
    "source_hash": "8bf01e0b",
    "execution_start": 1628912771652,
    "execution_millis": 41,
    "deepnote_cell_type": "code"
   },
   "source": "df_train.info()",
   "outputs": [
    {
     "name": "stdout",
     "text": "<class 'pandas.core.frame.DataFrame'>\nRangeIndex: 1460 entries, 0 to 1459\nData columns (total 81 columns):\n #   Column         Non-Null Count  Dtype  \n---  ------         --------------  -----  \n 0   Id             1460 non-null   int64  \n 1   MSSubClass     1460 non-null   int64  \n 2   MSZoning       1460 non-null   object \n 3   LotFrontage    1460 non-null   float64\n 4   LotArea        1460 non-null   int64  \n 5   Street         1460 non-null   object \n 6   Alley          1460 non-null   object \n 7   LotShape       1460 non-null   object \n 8   LandContour    1460 non-null   object \n 9   Utilities      1460 non-null   object \n 10  LotConfig      1460 non-null   object \n 11  LandSlope      1460 non-null   object \n 12  Neighborhood   1460 non-null   object \n 13  Condition1     1460 non-null   object \n 14  Condition2     1460 non-null   object \n 15  BldgType       1460 non-null   object \n 16  HouseStyle     1460 non-null   object \n 17  OverallQual    1460 non-null   int64  \n 18  OverallCond    1460 non-null   int64  \n 19  YearBuilt      1460 non-null   int64  \n 20  YearRemodAdd   1460 non-null   int64  \n 21  RoofStyle      1460 non-null   object \n 22  RoofMatl       1460 non-null   object \n 23  Exterior1st    1460 non-null   object \n 24  Exterior2nd    1460 non-null   object \n 25  MasVnrType     1460 non-null   object \n 26  MasVnrArea     1460 non-null   float64\n 27  ExterQual      1460 non-null   object \n 28  ExterCond      1460 non-null   object \n 29  Foundation     1460 non-null   object \n 30  BsmtQual       1460 non-null   object \n 31  BsmtCond       1460 non-null   object \n 32  BsmtExposure   1460 non-null   object \n 33  BsmtFinType1   1460 non-null   object \n 34  BsmtFinSF1     1460 non-null   int64  \n 35  BsmtFinType2   1460 non-null   object \n 36  BsmtFinSF2     1460 non-null   int64  \n 37  BsmtUnfSF      1460 non-null   int64  \n 38  TotalBsmtSF    1460 non-null   int64  \n 39  Heating        1460 non-null   object \n 40  HeatingQC      1460 non-null   object \n 41  CentralAir     1460 non-null   object \n 42  Electrical     1460 non-null   object \n 43  1stFlrSF       1460 non-null   int64  \n 44  2ndFlrSF       1460 non-null   int64  \n 45  LowQualFinSF   1460 non-null   int64  \n 46  GrLivArea      1460 non-null   int64  \n 47  BsmtFullBath   1460 non-null   int64  \n 48  BsmtHalfBath   1460 non-null   int64  \n 49  FullBath       1460 non-null   int64  \n 50  HalfBath       1460 non-null   int64  \n 51  BedroomAbvGr   1460 non-null   int64  \n 52  KitchenAbvGr   1460 non-null   int64  \n 53  KitchenQual    1460 non-null   object \n 54  TotRmsAbvGrd   1460 non-null   int64  \n 55  Functional     1460 non-null   object \n 56  Fireplaces     1460 non-null   int64  \n 57  FireplaceQu    1460 non-null   object \n 58  GarageType     1460 non-null   object \n 59  GarageYrBlt    1379 non-null   float64\n 60  GarageFinish   1460 non-null   object \n 61  GarageCars     1460 non-null   int64  \n 62  GarageArea     1460 non-null   int64  \n 63  GarageQual     1460 non-null   object \n 64  GarageCond     1460 non-null   object \n 65  PavedDrive     1460 non-null   object \n 66  WoodDeckSF     1460 non-null   int64  \n 67  OpenPorchSF    1460 non-null   int64  \n 68  EnclosedPorch  1460 non-null   int64  \n 69  3SsnPorch      1460 non-null   int64  \n 70  ScreenPorch    1460 non-null   int64  \n 71  PoolArea       1460 non-null   int64  \n 72  PoolQC         1460 non-null   object \n 73  Fence          1460 non-null   object \n 74  MiscFeature    1460 non-null   object \n 75  MiscVal        1460 non-null   int64  \n 76  MoSold         1460 non-null   int64  \n 77  YrSold         1460 non-null   int64  \n 78  SaleType       1460 non-null   object \n 79  SaleCondition  1460 non-null   object \n 80  SalePrice      1460 non-null   int64  \ndtypes: float64(3), int64(35), object(43)\nmemory usage: 924.0+ KB\n",
     "output_type": "stream"
    }
   ],
   "execution_count": null
  },
  {
   "cell_type": "code",
   "metadata": {
    "tags": [],
    "cell_id": "00005-d12dc135-8a5f-48b3-bff5-e260a0056105",
    "deepnote_to_be_reexecuted": false,
    "source_hash": "20ee299b",
    "execution_start": 1628912778378,
    "execution_millis": 677,
    "deepnote_cell_type": "code"
   },
   "source": "sns.set(rc={'figure.figsize':(11.7,8.27)})\nf, (ax_hist, ax_box) = plt.subplots(2, sharex=True, gridspec_kw={\"height_ratios\": (.6, .4)})\nsns.histplot(df_train['SalePrice'], ax=ax_hist)\nsns.boxplot(df_train['SalePrice'], ax=ax_box)\nax_hist.set(xlabel='')",
   "outputs": [
    {
     "name": "stderr",
     "text": "/shared-libs/python3.7/py/lib/python3.7/site-packages/seaborn/_decorators.py:43: FutureWarning: Pass the following variable as a keyword arg: x. From version 0.12, the only valid positional argument will be `data`, and passing other arguments without an explicit keyword will result in an error or misinterpretation.\n  FutureWarning\n",
     "output_type": "stream"
    },
    {
     "output_type": "execute_result",
     "execution_count": 5,
     "data": {
      "text/plain": "[Text(0.5, 0, '')]"
     },
     "metadata": {}
    },
    {
     "data": {
      "text/plain": "<Figure size 842.4x595.44 with 2 Axes>",
      "image/png": "[encoded data removed]"
     },
     "metadata": {
      "image/png": {
       "width": 714,
       "height": 500
      }
     },
     "output_type": "display_data"
    }
   ],
   "execution_count": null
  },
  {
   "cell_type": "code",
   "metadata": {
    "tags": [],
    "cell_id": "00006-a3cb6682-b77b-42e5-8578-1863d719a2fa",
    "deepnote_to_be_reexecuted": false,
    "source_hash": "128ae1da",
    "execution_start": 1628912796407,
    "execution_millis": 13,
    "deepnote_cell_type": "code"
   },
   "source": "Q1 = np.percentile(df_train.SalePrice, 25) \nQ3 = np.percentile(df_train.SalePrice, 75) \n\nIQR = Q3 - Q1\n\nLímite_inferior = (Q1 - 1.5 * IQR)\nLímite_superior = (Q3 + 1.5 * IQR)\n\nprint(f'Límite_inferior : {Límite_inferior}')\nprint(f'Límite_superior : {Límite_superior}')",
   "outputs": [
    {
     "name": "stdout",
     "text": "Límite_inferior : 3937.5\nLímite_superior : 340037.5\n",
     "output_type": "stream"
    }
   ],
   "execution_count": null
  },
  {
   "cell_type": "code",
   "metadata": {
    "tags": [],
    "cell_id": "00007-687d3a5f-a383-4a63-b061-b7e374bec7d8",
    "deepnote_to_be_reexecuted": false,
    "source_hash": "ae6f3893",
    "execution_start": 1628912799577,
    "execution_millis": 398,
    "deepnote_cell_type": "code"
   },
   "source": "df_train_sin_extremos = df_train[df_train.SalePrice < Límite_superior]\ndf_train_sin_extremos",
   "outputs": [
    {
     "output_type": "execute_result",
     "execution_count": 7,
     "data": {
      "application/vnd.deepnote.dataframe.v2+json": {
       "row_count": 1399,
       "column_count": 81,
       "columns": [
        {
         "name": "Id",
         "dtype": "int64",
         "stats": {
          "unique_count": 1399,
          "nan_count": 0,
          "min": "1",
          "max": "1460",
          "histogram": [
           {
            "bin_start": 1,
            "bin_end": 146.9,
            "count": 142
           },
           {
            "bin_start": 146.9,
            "bin_end": 292.8,
            "count": 139
           },
           {
            "bin_start": 292.8,
            "bin_end": 438.70000000000005,
            "count": 138
           },
           {
            "bin_start": 438.70000000000005,
            "bin_end": 584.6,
            "count": 139
           },
           {
            "bin_start": 584.6,
            "bin_end": 730.5,
            "count": 133
           },
           {
            "bin_start": 730.5,
            "bin_end": 876.4000000000001,
            "count": 141
           },
           {
            "bin_start": 876.4000000000001,
            "bin_end": 1022.3000000000001,
            "count": 142
           },
           {
            "bin_start": 1022.3000000000001,
            "bin_end": 1168.2,
            "count": 144
           },
           {
            "bin_start": 1168.2,
            "bin_end": 1314.1000000000001,
            "count": 139
           },
           {
            "bin_start": 1314.1000000000001,
            "bin_end": 1460,
            "count": 142
           }
          ]
         }
        },
        {
         "name": "MSSubClass",
         "dtype": "int64",
         "stats": {
          "unique_count": 15,
          "nan_count": 0,
          "min": "20",
          "max": "190",
          "histogram": [
           {
            "bin_start": 20,
            "bin_end": 37,
            "count": 576
           },
           {
            "bin_start": 37,
            "bin_end": 54,
            "count": 158
           },
           {
            "bin_start": 54,
            "bin_end": 71,
            "count": 333
           },
           {
            "bin_start": 71,
            "bin_end": 88,
            "count": 92
           },
           {
            "bin_start": 88,
            "bin_end": 105,
            "count": 52
           },
           {
            "bin_start": 105,
            "bin_end": 122,
            "count": 85
           },
           {
            "bin_start": 122,
            "bin_end": 139,
            "count": 0
           },
           {
            "bin_start": 139,
            "bin_end": 156,
            "count": 0
           },
           {
            "bin_start": 156,
            "bin_end": 173,
            "count": 63
           },
           {
            "bin_start": 173,
            "bin_end": 190,
            "count": 40
           }
          ]
         }
        },
        {
         "name": "MSZoning",
         "dtype": "object",
         "stats": {
          "unique_count": 5,
          "nan_count": 0,
          "categories": [
           {
            "name": "RL",
            "count": 1093
           },
           {
            "name": "RM",
            "count": 216
           },
           {
            "name": "3 others",
            "count": 90
           }
          ]
         }
        },
        {
         "name": "LotFrontage",
         "dtype": "float64",
         "stats": {
          "unique_count": 108,
          "nan_count": 0,
          "min": "0.0",
          "max": "313.0",
          "histogram": [
           {
            "bin_start": 0,
            "bin_end": 31.3,
            "count": 304
           },
           {
            "bin_start": 31.3,
            "bin_end": 62.6,
            "count": 409
           },
           {
            "bin_start": 62.6,
            "bin_end": 93.9,
            "count": 577
           },
           {
            "bin_start": 93.9,
            "bin_end": 125.2,
            "count": 88
           },
           {
            "bin_start": 125.2,
            "bin_end": 156.5,
            "count": 16
           },
           {
            "bin_start": 156.5,
            "bin_end": 187.8,
            "count": 3
           },
           {
            "bin_start": 187.8,
            "bin_end": 219.1,
            "count": 0
           },
           {
            "bin_start": 219.1,
            "bin_end": 250.4,
            "count": 0
           },
           {
            "bin_start": 250.4,
            "bin_end": 281.7,
            "count": 0
           },
           {
            "bin_start": 281.7,
            "bin_end": 313,
            "count": 2
           }
          ]
         }
        },
        {
         "name": "LotArea",
         "dtype": "int64",
         "stats": {
          "unique_count": 1017,
          "nan_count": 0,
          "min": "1300",
          "max": "164660",
          "histogram": [
           {
            "bin_start": 1300,
            "bin_end": 17636,
            "count": 1340
           },
           {
            "bin_start": 17636,
            "bin_end": 33972,
            "count": 45
           },
           {
            "bin_start": 33972,
            "bin_end": 50308,
            "count": 6
           },
           {
            "bin_start": 50308,
            "bin_end": 66644,
            "count": 4
           },
           {
            "bin_start": 66644,
            "bin_end": 82980,
            "count": 1
           },
           {
            "bin_start": 82980,
            "bin_end": 99316,
            "count": 0
           },
           {
            "bin_start": 99316,
            "bin_end": 115652,
            "count": 1
           },
           {
            "bin_start": 115652,
            "bin_end": 131988,
            "count": 0
           },
           {
            "bin_start": 131988,
            "bin_end": 148324,
            "count": 0
           },
           {
            "bin_start": 148324,
            "bin_end": 164660,
            "count": 2
           }
          ]
         }
        },
        {
         "name": "Street",
         "dtype": "object",
         "stats": {
          "unique_count": 2,
          "nan_count": 0,
          "categories": [
           {
            "name": "Pave",
            "count": 1393
           },
           {
            "name": "Grvl",
            "count": 6
           }
          ]
         }
        },
        {
         "name": "Alley",
         "dtype": "object",
         "stats": {
          "unique_count": 3,
          "nan_count": 0,
          "categories": [
           {
            "name": "SinCall",
            "count": 1308
           },
           {
            "name": "Grvl",
            "count": 50
           },
           {
            "name": "Pave",
            "count": 41
           }
          ]
         }
        },
        {
         "name": "LotShape",
         "dtype": "object",
         "stats": {
          "unique_count": 4,
          "nan_count": 0,
          "categories": [
           {
            "name": "Reg",
            "count": 898
           },
           {
            "name": "IR1",
            "count": 457
           },
           {
            "name": "2 others",
            "count": 44
           }
          ]
         }
        },
        {
         "name": "LandContour",
         "dtype": "object",
         "stats": {
          "unique_count": 4,
          "nan_count": 0,
          "categories": [
           {
            "name": "Lvl",
            "count": 1261
           },
           {
            "name": "Bnk",
            "count": 63
           },
           {
            "name": "2 others",
            "count": 75
           }
          ]
         }
        },
        {
         "name": "Utilities",
         "dtype": "object",
         "stats": {
          "unique_count": 2,
          "nan_count": 0,
          "categories": [
           {
            "name": "AllPub",
            "count": 1398
           },
           {
            "name": "NoSeWa",
            "count": 1
           }
          ]
         }
        },
        {
         "name": "LotConfig",
         "dtype": "object",
         "stats": {
          "unique_count": 5,
          "nan_count": 0,
          "categories": [
           {
            "name": "Inside",
            "count": 1008
           },
           {
            "name": "Corner",
            "count": 255
           },
           {
            "name": "3 others",
            "count": 136
           }
          ]
         }
        },
        {
         "name": "LandSlope",
         "dtype": "object",
         "stats": {
          "unique_count": 3,
          "nan_count": 0,
          "categories": [
           {
            "name": "Gtl",
            "count": 1326
           },
           {
            "name": "Mod",
            "count": 61
           },
           {
            "name": "Sev",
            "count": 12
           }
          ]
         }
        },
        {
         "name": "Neighborhood",
         "dtype": "object",
         "stats": {
          "unique_count": 25,
          "nan_count": 0,
          "categories": [
           {
            "name": "NAmes",
            "count": 224
           },
           {
            "name": "CollgCr",
            "count": 148
           },
           {
            "name": "23 others",
            "count": 1027
           }
          ]
         }
        },
        {
         "name": "Condition1",
         "dtype": "object",
         "stats": {
          "unique_count": 9,
          "nan_count": 0,
          "categories": [
           {
            "name": "Norm",
            "count": 1202
           },
           {
            "name": "Feedr",
            "count": 81
           },
           {
            "name": "7 others",
            "count": 116
           }
          ]
         }
        },
        {
         "name": "Condition2",
         "dtype": "object",
         "stats": {
          "unique_count": 8,
          "nan_count": 0,
          "categories": [
           {
            "name": "Norm",
            "count": 1385
           },
           {
            "name": "Feedr",
            "count": 6
           },
           {
            "name": "6 others",
            "count": 8
           }
          ]
         }
        },
        {
         "name": "BldgType",
         "dtype": "object",
         "stats": {
          "unique_count": 5,
          "nan_count": 0,
          "categories": [
           {
            "name": "1Fam",
            "count": 1161
           },
           {
            "name": "TwnhsE",
            "count": 112
           },
           {
            "name": "3 others",
            "count": 126
           }
          ]
         }
        },
        {
         "name": "HouseStyle",
         "dtype": "object",
         "stats": {
          "unique_count": 8,
          "nan_count": 0,
          "categories": [
           {
            "name": "1Story",
            "count": 695
           },
           {
            "name": "2Story",
            "count": 419
           },
           {
            "name": "6 others",
            "count": 285
           }
          ]
         }
        },
        {
         "name": "OverallQual",
         "dtype": "int64",
         "stats": {
          "unique_count": 10,
          "nan_count": 0,
          "min": "1",
          "max": "10",
          "histogram": [
           {
            "bin_start": 1,
            "bin_end": 1.9,
            "count": 2
           },
           {
            "bin_start": 1.9,
            "bin_end": 2.8,
            "count": 3
           },
           {
            "bin_start": 2.8,
            "bin_end": 3.7,
            "count": 20
           },
           {
            "bin_start": 3.7,
            "bin_end": 4.6,
            "count": 116
           },
           {
            "bin_start": 4.6,
            "bin_end": 5.5,
            "count": 397
           },
           {
            "bin_start": 5.5,
            "bin_end": 6.4,
            "count": 374
           },
           {
            "bin_start": 6.4,
            "bin_end": 7.3,
            "count": 316
           },
           {
            "bin_start": 7.3,
            "bin_end": 8.2,
            "count": 146
           },
           {
            "bin_start": 8.2,
            "bin_end": 9.1,
            "count": 20
           },
           {
            "bin_start": 9.1,
            "bin_end": 10,
            "count": 5
           }
          ]
         }
        },
        {
         "name": "OverallCond",
         "dtype": "int64",
         "stats": {
          "unique_count": 9,
          "nan_count": 0,
          "min": "1",
          "max": "9",
          "histogram": [
           {
            "bin_start": 1,
            "bin_end": 1.8,
            "count": 1
           },
           {
            "bin_start": 1.8,
            "bin_end": 2.6,
            "count": 4
           },
           {
            "bin_start": 2.6,
            "bin_end": 3.4000000000000004,
            "count": 25
           },
           {
            "bin_start": 3.4000000000000004,
            "bin_end": 4.2,
            "count": 57
           },
           {
            "bin_start": 4.2,
            "bin_end": 5,
            "count": 0
           },
           {
            "bin_start": 5,
            "bin_end": 5.800000000000001,
            "count": 769
           },
           {
            "bin_start": 5.800000000000001,
            "bin_end": 6.6000000000000005,
            "count": 248
           },
           {
            "bin_start": 6.6000000000000005,
            "bin_end": 7.4,
            "count": 203
           },
           {
            "bin_start": 7.4,
            "bin_end": 8.2,
            "count": 72
           },
           {
            "bin_start": 8.2,
            "bin_end": 9,
            "count": 20
           }
          ]
         }
        },
        {
         "name": "YearBuilt",
         "dtype": "int64",
         "stats": {
          "unique_count": 111,
          "nan_count": 0,
          "min": "1872",
          "max": "2009",
          "histogram": [
           {
            "bin_start": 1872,
            "bin_end": 1885.7,
            "count": 9
           },
           {
            "bin_start": 1885.7,
            "bin_end": 1899.4,
            "count": 5
           },
           {
            "bin_start": 1899.4,
            "bin_end": 1913.1,
            "count": 37
           },
           {
            "bin_start": 1913.1,
            "bin_end": 1926.8,
            "count": 119
           },
           {
            "bin_start": 1926.8,
            "bin_end": 1940.5,
            "count": 84
           },
           {
            "bin_start": 1940.5,
            "bin_end": 1954.2,
            "count": 128
           },
           {
            "bin_start": 1954.2,
            "bin_end": 1967.9,
            "count": 238
           },
           {
            "bin_start": 1967.9,
            "bin_end": 1981.6,
            "count": 237
           },
           {
            "bin_start": 1981.6,
            "bin_end": 1995.3,
            "count": 122
           },
           {
            "bin_start": 1995.3,
            "bin_end": 2009,
            "count": 420
           }
          ]
         }
        },
        {
         "name": "YearRemodAdd",
         "dtype": "int64",
         "stats": {
          "unique_count": 61,
          "nan_count": 0,
          "min": "1950",
          "max": "2010",
          "histogram": [
           {
            "bin_start": 1950,
            "bin_end": 1956,
            "count": 220
           },
           {
            "bin_start": 1956,
            "bin_end": 1962,
            "count": 72
           },
           {
            "bin_start": 1962,
            "bin_end": 1968,
            "count": 83
           },
           {
            "bin_start": 1968,
            "bin_end": 1974,
            "count": 106
           },
           {
            "bin_start": 1974,
            "bin_end": 1980,
            "count": 98
           },
           {
            "bin_start": 1980,
            "bin_end": 1986,
            "count": 48
           },
           {
            "bin_start": 1986,
            "bin_end": 1992,
            "count": 63
           },
           {
            "bin_start": 1992,
            "bin_end": 1998,
            "count": 139
           },
           {
            "bin_start": 1998,
            "bin_end": 2004,
            "count": 236
           },
           {
            "bin_start": 2004,
            "bin_end": 2010,
            "count": 334
           }
          ]
         }
        },
        {
         "name": "RoofStyle",
         "dtype": "object",
         "stats": {
          "unique_count": 6,
          "nan_count": 0,
          "categories": [
           {
            "name": "Gable",
            "count": 1119
           },
           {
            "name": "Hip",
            "count": 247
           },
           {
            "name": "4 others",
            "count": 33
           }
          ]
         }
        },
        {
         "name": "RoofMatl",
         "dtype": "object",
         "stats": {
          "unique_count": 8,
          "nan_count": 0,
          "categories": [
           {
            "name": "CompShg",
            "count": 1376
           },
           {
            "name": "Tar&Grv",
            "count": 11
           },
           {
            "name": "6 others",
            "count": 12
           }
          ]
         }
        },
        {
         "name": "Exterior1st",
         "dtype": "object",
         "stats": {
          "unique_count": 15,
          "nan_count": 0,
          "categories": [
           {
            "name": "VinylSd",
            "count": 479
           },
           {
            "name": "HdBoard",
            "count": 220
           },
           {
            "name": "13 others",
            "count": 700
           }
          ]
         }
        },
        {
         "name": "Exterior2nd",
         "dtype": "object",
         "stats": {
          "unique_count": 16,
          "nan_count": 0,
          "categories": [
           {
            "name": "VinylSd",
            "count": 468
           },
           {
            "name": "MetalSd",
            "count": 211
           },
           {
            "name": "14 others",
            "count": 720
           }
          ]
         }
        },
        {
         "name": "MasVnrType",
         "dtype": "object",
         "stats": {
          "unique_count": 4,
          "nan_count": 0,
          "categories": [
           {
            "name": "Ninguno",
            "count": 861
           },
           {
            "name": "BrkFace",
            "count": 418
           },
           {
            "name": "2 others",
            "count": 120
           }
          ]
         }
        },
        {
         "name": "MasVnrArea",
         "dtype": "float64",
         "stats": {
          "unique_count": 296,
          "nan_count": 0,
          "min": "0.0",
          "max": "1600.0",
          "histogram": [
           {
            "bin_start": 0,
            "bin_end": 160,
            "count": 1076
           },
           {
            "bin_start": 160,
            "bin_end": 320,
            "count": 202
           },
           {
            "bin_start": 320,
            "bin_end": 480,
            "count": 80
           },
           {
            "bin_start": 480,
            "bin_end": 640,
            "count": 23
           },
           {
            "bin_start": 640,
            "bin_end": 800,
            "count": 11
           },
           {
            "bin_start": 800,
            "bin_end": 960,
            "count": 2
           },
           {
            "bin_start": 960,
            "bin_end": 1120,
            "count": 3
           },
           {
            "bin_start": 1120,
            "bin_end": 1280,
            "count": 1
           },
           {
            "bin_start": 1280,
            "bin_end": 1440,
            "count": 0
           },
           {
            "bin_start": 1440,
            "bin_end": 1600,
            "count": 1
           }
          ]
         }
        },
        {
         "name": "ExterQual",
         "dtype": "object",
         "stats": {
          "unique_count": 4,
          "nan_count": 0,
          "categories": [
           {
            "name": "TA",
            "count": 902
           },
           {
            "name": "Gd",
            "count": 459
           },
           {
            "name": "2 others",
            "count": 38
           }
          ]
         }
        },
        {
         "name": "ExterCond",
         "dtype": "object",
         "stats": {
          "unique_count": 5,
          "nan_count": 0,
          "categories": [
           {
            "name": "TA",
            "count": 1225
           },
           {
            "name": "Gd",
            "count": 142
           },
           {
            "name": "3 others",
            "count": 32
           }
          ]
         }
        },
        {
         "name": "Foundation",
         "dtype": "object",
         "stats": {
          "unique_count": 6,
          "nan_count": 0,
          "categories": [
           {
            "name": "CBlock",
            "count": 629
           },
           {
            "name": "PConc",
            "count": 592
           },
           {
            "name": "4 others",
            "count": 178
           }
          ]
         }
        },
        {
         "name": "BsmtQual",
         "dtype": "object",
         "stats": {
          "unique_count": 5,
          "nan_count": 0,
          "categories": [
           {
            "name": "TA",
            "count": 647
           },
           {
            "name": "Gd",
            "count": 604
           },
           {
            "name": "3 others",
            "count": 148
           }
          ]
         }
        },
        {
         "name": "BsmtCond",
         "dtype": "object",
         "stats": {
          "unique_count": 5,
          "nan_count": 0,
          "categories": [
           {
            "name": "TA",
            "count": 1254
           },
           {
            "name": "Gd",
            "count": 61
           },
           {
            "name": "3 others",
            "count": 84
           }
          ]
         }
        },
        {
         "name": "BsmtExposure",
         "dtype": "object",
         "stats": {
          "unique_count": 5,
          "nan_count": 0,
          "categories": [
           {
            "name": "No",
            "count": 942
           },
           {
            "name": "Av",
            "count": 205
           },
           {
            "name": "3 others",
            "count": 252
           }
          ]
         }
        },
        {
         "name": "BsmtFinType1",
         "dtype": "object",
         "stats": {
          "unique_count": 7,
          "nan_count": 0,
          "categories": [
           {
            "name": "Unf",
            "count": 419
           },
           {
            "name": "GLQ",
            "count": 372
           },
           {
            "name": "5 others",
            "count": 608
           }
          ]
         }
        },
        {
         "name": "BsmtFinSF1",
         "dtype": "int64",
         "stats": {
          "unique_count": 598,
          "nan_count": 0,
          "min": "0",
          "max": "5644",
          "histogram": [
           {
            "bin_start": 0,
            "bin_end": 564.4,
            "count": 904
           },
           {
            "bin_start": 564.4,
            "bin_end": 1128.8,
            "count": 408
           },
           {
            "bin_start": 1128.8,
            "bin_end": 1693.1999999999998,
            "count": 84
           },
           {
            "bin_start": 1693.1999999999998,
            "bin_end": 2257.6,
            "count": 1
           },
           {
            "bin_start": 2257.6,
            "bin_end": 2822,
            "count": 1
           },
           {
            "bin_start": 2822,
            "bin_end": 3386.3999999999996,
            "count": 0
           },
           {
            "bin_start": 3386.3999999999996,
            "bin_end": 3950.7999999999997,
            "count": 0
           },
           {
            "bin_start": 3950.7999999999997,
            "bin_end": 4515.2,
            "count": 0
           },
           {
            "bin_start": 4515.2,
            "bin_end": 5079.599999999999,
            "count": 0
           },
           {
            "bin_start": 5079.599999999999,
            "bin_end": 5644,
            "count": 1
           }
          ]
         }
        },
        {
         "name": "BsmtFinType2",
         "dtype": "object",
         "stats": {
          "unique_count": 7,
          "nan_count": 0,
          "categories": [
           {
            "name": "Unf",
            "count": 1199
           },
           {
            "name": "Rec",
            "count": 52
           },
           {
            "name": "5 others",
            "count": 148
           }
          ]
         }
        },
        {
         "name": "BsmtFinSF2",
         "dtype": "int64",
         "stats": {
          "unique_count": 143,
          "nan_count": 0,
          "min": "0",
          "max": "1474",
          "histogram": [
           {
            "bin_start": 0,
            "bin_end": 147.4,
            "count": 1267
           },
           {
            "bin_start": 147.4,
            "bin_end": 294.8,
            "count": 42
           },
           {
            "bin_start": 294.8,
            "bin_end": 442.20000000000005,
            "count": 25
           },
           {
            "bin_start": 442.20000000000005,
            "bin_end": 589.6,
            "count": 27
           },
           {
            "bin_start": 589.6,
            "bin_end": 737,
            "count": 19
           },
           {
            "bin_start": 737,
            "bin_end": 884.4000000000001,
            "count": 7
           },
           {
            "bin_start": 884.4000000000001,
            "bin_end": 1031.8,
            "count": 4
           },
           {
            "bin_start": 1031.8,
            "bin_end": 1179.2,
            "count": 7
           },
           {
            "bin_start": 1179.2,
            "bin_end": 1326.6000000000001,
            "count": 0
           },
           {
            "bin_start": 1326.6000000000001,
            "bin_end": 1474,
            "count": 1
           }
          ]
         }
        },
        {
         "name": "BsmtUnfSF",
         "dtype": "int64",
         "stats": {
          "unique_count": 751,
          "nan_count": 0,
          "min": "0",
          "max": "2042",
          "histogram": [
           {
            "bin_start": 0,
            "bin_end": 204.2,
            "count": 334
           },
           {
            "bin_start": 204.2,
            "bin_end": 408.4,
            "count": 279
           },
           {
            "bin_start": 408.4,
            "bin_end": 612.5999999999999,
            "count": 235
           },
           {
            "bin_start": 612.5999999999999,
            "bin_end": 816.8,
            "count": 218
           },
           {
            "bin_start": 816.8,
            "bin_end": 1021,
            "count": 134
           },
           {
            "bin_start": 1021,
            "bin_end": 1225.1999999999998,
            "count": 64
           },
           {
            "bin_start": 1225.1999999999998,
            "bin_end": 1429.3999999999999,
            "count": 66
           },
           {
            "bin_start": 1429.3999999999999,
            "bin_end": 1633.6,
            "count": 43
           },
           {
            "bin_start": 1633.6,
            "bin_end": 1837.8,
            "count": 22
           },
           {
            "bin_start": 1837.8,
            "bin_end": 2042,
            "count": 4
           }
          ]
         }
        },
        {
         "name": "TotalBsmtSF",
         "dtype": "int64",
         "stats": {
          "unique_count": 675,
          "nan_count": 0,
          "min": "0",
          "max": "6110",
          "histogram": [
           {
            "bin_start": 0,
            "bin_end": 611,
            "count": 121
           },
           {
            "bin_start": 611,
            "bin_end": 1222,
            "count": 902
           },
           {
            "bin_start": 1222,
            "bin_end": 1833,
            "count": 349
           },
           {
            "bin_start": 1833,
            "bin_end": 2444,
            "count": 23
           },
           {
            "bin_start": 2444,
            "bin_end": 3055,
            "count": 1
           },
           {
            "bin_start": 3055,
            "bin_end": 3666,
            "count": 2
           },
           {
            "bin_start": 3666,
            "bin_end": 4277,
            "count": 0
           },
           {
            "bin_start": 4277,
            "bin_end": 4888,
            "count": 0
           },
           {
            "bin_start": 4888,
            "bin_end": 5499,
            "count": 0
           },
           {
            "bin_start": 5499,
            "bin_end": 6110,
            "count": 1
           }
          ]
         }
        },
        {
         "name": "Heating",
         "dtype": "object",
         "stats": {
          "unique_count": 6,
          "nan_count": 0,
          "categories": [
           {
            "name": "GasA",
            "count": 1368
           },
           {
            "name": "GasW",
            "count": 17
           },
           {
            "name": "4 others",
            "count": 14
           }
          ]
         }
        },
        {
         "name": "HeatingQC",
         "dtype": "object",
         "stats": {
          "unique_count": 5,
          "nan_count": 0,
          "categories": [
           {
            "name": "Ex",
            "count": 685
           },
           {
            "name": "TA",
            "count": 426
           },
           {
            "name": "3 others",
            "count": 288
           }
          ]
         }
        },
        {
         "name": "CentralAir",
         "dtype": "object",
         "stats": {
          "unique_count": 2,
          "nan_count": 0,
          "categories": [
           {
            "name": "Y",
            "count": 1304
           },
           {
            "name": "N",
            "count": 95
           }
          ]
         }
        },
        {
         "name": "Electrical",
         "dtype": "object",
         "stats": {
          "unique_count": 5,
          "nan_count": 0,
          "categories": [
           {
            "name": "SBrkr",
            "count": 1274
           },
           {
            "name": "FuseA",
            "count": 94
           },
           {
            "name": "3 others",
            "count": 31
           }
          ]
         }
        },
        {
         "name": "1stFlrSF",
         "dtype": "int64",
         "stats": {
          "unique_count": 710,
          "nan_count": 0,
          "min": "334",
          "max": "4692",
          "histogram": [
           {
            "bin_start": 334,
            "bin_end": 769.8,
            "count": 165
           },
           {
            "bin_start": 769.8,
            "bin_end": 1205.6,
            "count": 733
           },
           {
            "bin_start": 1205.6,
            "bin_end": 1641.4,
            "count": 372
           },
           {
            "bin_start": 1641.4,
            "bin_end": 2077.2,
            "count": 113
           },
           {
            "bin_start": 2077.2,
            "bin_end": 2513,
            "count": 11
           },
           {
            "bin_start": 2513,
            "bin_end": 2948.8,
            "count": 3
           },
           {
            "bin_start": 2948.8,
            "bin_end": 3384.6,
            "count": 1
           },
           {
            "bin_start": 3384.6,
            "bin_end": 3820.4,
            "count": 0
           },
           {
            "bin_start": 3820.4,
            "bin_end": 4256.200000000001,
            "count": 0
           },
           {
            "bin_start": 4256.200000000001,
            "bin_end": 4692,
            "count": 1
           }
          ]
         }
        },
        {
         "name": "2ndFlrSF",
         "dtype": "int64",
         "stats": {
          "unique_count": 395,
          "nan_count": 0,
          "min": "0",
          "max": "1818",
          "histogram": [
           {
            "bin_start": 0,
            "bin_end": 181.8,
            "count": 800
           },
           {
            "bin_start": 181.8,
            "bin_end": 363.6,
            "count": 21
           },
           {
            "bin_start": 363.6,
            "bin_end": 545.4000000000001,
            "count": 67
           },
           {
            "bin_start": 545.4000000000001,
            "bin_end": 727.2,
            "count": 164
           },
           {
            "bin_start": 727.2,
            "bin_end": 909,
            "count": 199
           },
           {
            "bin_start": 909,
            "bin_end": 1090.8000000000002,
            "count": 72
           },
           {
            "bin_start": 1090.8000000000002,
            "bin_end": 1272.6000000000001,
            "count": 50
           },
           {
            "bin_start": 1272.6000000000001,
            "bin_end": 1454.4,
            "count": 21
           },
           {
            "bin_start": 1454.4,
            "bin_end": 1636.2,
            "count": 4
           },
           {
            "bin_start": 1636.2,
            "bin_end": 1818,
            "count": 1
           }
          ]
         }
        },
        {
         "name": "LowQualFinSF",
         "dtype": "int64",
         "stats": {
          "unique_count": 23,
          "nan_count": 0,
          "min": "0",
          "max": "528",
          "histogram": [
           {
            "bin_start": 0,
            "bin_end": 52.8,
            "count": 1374
           },
           {
            "bin_start": 52.8,
            "bin_end": 105.6,
            "count": 4
           },
           {
            "bin_start": 105.6,
            "bin_end": 158.39999999999998,
            "count": 3
           },
           {
            "bin_start": 158.39999999999998,
            "bin_end": 211.2,
            "count": 1
           },
           {
            "bin_start": 211.2,
            "bin_end": 264,
            "count": 2
           },
           {
            "bin_start": 264,
            "bin_end": 316.79999999999995,
            "count": 0
           },
           {
            "bin_start": 316.79999999999995,
            "bin_end": 369.59999999999997,
            "count": 2
           },
           {
            "bin_start": 369.59999999999997,
            "bin_end": 422.4,
            "count": 6
           },
           {
            "bin_start": 422.4,
            "bin_end": 475.2,
            "count": 1
           },
           {
            "bin_start": 475.2,
            "bin_end": 528,
            "count": 6
           }
          ]
         }
        },
        {
         "name": "GrLivArea",
         "dtype": "int64",
         "stats": {
          "unique_count": 810,
          "nan_count": 0,
          "min": "334",
          "max": "5642",
          "histogram": [
           {
            "bin_start": 334,
            "bin_end": 864.8,
            "count": 107
           },
           {
            "bin_start": 864.8,
            "bin_end": 1395.6,
            "count": 554
           },
           {
            "bin_start": 1395.6,
            "bin_end": 1926.3999999999999,
            "count": 525
           },
           {
            "bin_start": 1926.3999999999999,
            "bin_end": 2457.2,
            "count": 163
           },
           {
            "bin_start": 2457.2,
            "bin_end": 2988,
            "count": 42
           },
           {
            "bin_start": 2988,
            "bin_end": 3518.7999999999997,
            "count": 6
           },
           {
            "bin_start": 3518.7999999999997,
            "bin_end": 4049.5999999999995,
            "count": 0
           },
           {
            "bin_start": 4049.5999999999995,
            "bin_end": 4580.4,
            "count": 0
           },
           {
            "bin_start": 4580.4,
            "bin_end": 5111.2,
            "count": 1
           },
           {
            "bin_start": 5111.2,
            "bin_end": 5642,
            "count": 1
           }
          ]
         }
        },
        {
         "name": "BsmtFullBath",
         "dtype": "int64",
         "stats": {
          "unique_count": 4,
          "nan_count": 0,
          "min": "0",
          "max": "3",
          "histogram": [
           {
            "bin_start": 0,
            "bin_end": 0.3,
            "count": 840
           },
           {
            "bin_start": 0.3,
            "bin_end": 0.6,
            "count": 0
           },
           {
            "bin_start": 0.6,
            "bin_end": 0.8999999999999999,
            "count": 0
           },
           {
            "bin_start": 0.8999999999999999,
            "bin_end": 1.2,
            "count": 545
           },
           {
            "bin_start": 1.2,
            "bin_end": 1.5,
            "count": 0
           },
           {
            "bin_start": 1.5,
            "bin_end": 1.7999999999999998,
            "count": 0
           },
           {
            "bin_start": 1.7999999999999998,
            "bin_end": 2.1,
            "count": 13
           },
           {
            "bin_start": 2.1,
            "bin_end": 2.4,
            "count": 0
           },
           {
            "bin_start": 2.4,
            "bin_end": 2.6999999999999997,
            "count": 0
           },
           {
            "bin_start": 2.6999999999999997,
            "bin_end": 3,
            "count": 1
           }
          ]
         }
        },
        {
         "name": "BsmtHalfBath",
         "dtype": "int64",
         "stats": {
          "unique_count": 3,
          "nan_count": 0,
          "min": "0",
          "max": "2",
          "histogram": [
           {
            "bin_start": 0,
            "bin_end": 0.2,
            "count": 1319
           },
           {
            "bin_start": 0.2,
            "bin_end": 0.4,
            "count": 0
           },
           {
            "bin_start": 0.4,
            "bin_end": 0.6000000000000001,
            "count": 0
           },
           {
            "bin_start": 0.6000000000000001,
            "bin_end": 0.8,
            "count": 0
           },
           {
            "bin_start": 0.8,
            "bin_end": 1,
            "count": 0
           },
           {
            "bin_start": 1,
            "bin_end": 1.2000000000000002,
            "count": 78
           },
           {
            "bin_start": 1.2000000000000002,
            "bin_end": 1.4000000000000001,
            "count": 0
           },
           {
            "bin_start": 1.4000000000000001,
            "bin_end": 1.6,
            "count": 0
           },
           {
            "bin_start": 1.6,
            "bin_end": 1.8,
            "count": 0
           },
           {
            "bin_start": 1.8,
            "bin_end": 2,
            "count": 2
           }
          ]
         }
        },
        {
         "name": "FullBath",
         "dtype": "int64",
         "stats": {
          "unique_count": 4,
          "nan_count": 0,
          "min": "0",
          "max": "3",
          "histogram": [
           {
            "bin_start": 0,
            "bin_end": 0.3,
            "count": 8
           },
           {
            "bin_start": 0.3,
            "bin_end": 0.6,
            "count": 0
           },
           {
            "bin_start": 0.6,
            "bin_end": 0.8999999999999999,
            "count": 0
           },
           {
            "bin_start": 0.8999999999999999,
            "bin_end": 1.2,
            "count": 647
           },
           {
            "bin_start": 1.2,
            "bin_end": 1.5,
            "count": 0
           },
           {
            "bin_start": 1.5,
            "bin_end": 1.7999999999999998,
            "count": 0
           },
           {
            "bin_start": 1.7999999999999998,
            "bin_end": 2.1,
            "count": 724
           },
           {
            "bin_start": 2.1,
            "bin_end": 2.4,
            "count": 0
           },
           {
            "bin_start": 2.4,
            "bin_end": 2.6999999999999997,
            "count": 0
           },
           {
            "bin_start": 2.6999999999999997,
            "bin_end": 3,
            "count": 20
           }
          ]
         }
        },
        {
         "name": "HalfBath",
         "dtype": "int64",
         "stats": {
          "unique_count": 3,
          "nan_count": 0,
          "min": "0",
          "max": "2",
          "histogram": [
           {
            "bin_start": 0,
            "bin_end": 0.2,
            "count": 893
           },
           {
            "bin_start": 0.2,
            "bin_end": 0.4,
            "count": 0
           },
           {
            "bin_start": 0.4,
            "bin_end": 0.6000000000000001,
            "count": 0
           },
           {
            "bin_start": 0.6000000000000001,
            "bin_end": 0.8,
            "count": 0
           },
           {
            "bin_start": 0.8,
            "bin_end": 1,
            "count": 0
           },
           {
            "bin_start": 1,
            "bin_end": 1.2000000000000002,
            "count": 494
           },
           {
            "bin_start": 1.2000000000000002,
            "bin_end": 1.4000000000000001,
            "count": 0
           },
           {
            "bin_start": 1.4000000000000001,
            "bin_end": 1.6,
            "count": 0
           },
           {
            "bin_start": 1.6,
            "bin_end": 1.8,
            "count": 0
           },
           {
            "bin_start": 1.8,
            "bin_end": 2,
            "count": 12
           }
          ]
         }
        },
        {
         "name": "BedroomAbvGr",
         "dtype": "int64",
         "stats": {
          "unique_count": 8,
          "nan_count": 0,
          "min": "0",
          "max": "8",
          "histogram": [
           {
            "bin_start": 0,
            "bin_end": 0.8,
            "count": 5
           },
           {
            "bin_start": 0.8,
            "bin_end": 1.6,
            "count": 46
           },
           {
            "bin_start": 1.6,
            "bin_end": 2.4000000000000004,
            "count": 344
           },
           {
            "bin_start": 2.4000000000000004,
            "bin_end": 3.2,
            "count": 785
           },
           {
            "bin_start": 3.2,
            "bin_end": 4,
            "count": 0
           },
           {
            "bin_start": 4,
            "bin_end": 4.800000000000001,
            "count": 190
           },
           {
            "bin_start": 4.800000000000001,
            "bin_end": 5.6000000000000005,
            "count": 21
           },
           {
            "bin_start": 5.6000000000000005,
            "bin_end": 6.4,
            "count": 7
           },
           {
            "bin_start": 6.4,
            "bin_end": 7.2,
            "count": 0
           },
           {
            "bin_start": 7.2,
            "bin_end": 8,
            "count": 1
           }
          ]
         }
        },
        {
         "name": "KitchenAbvGr",
         "dtype": "int64",
         "stats": {
          "unique_count": 4,
          "nan_count": 0,
          "min": "0",
          "max": "3",
          "histogram": [
           {
            "bin_start": 0,
            "bin_end": 0.3,
            "count": 1
           },
           {
            "bin_start": 0.3,
            "bin_end": 0.6,
            "count": 0
           },
           {
            "bin_start": 0.6,
            "bin_end": 0.8999999999999999,
            "count": 0
           },
           {
            "bin_start": 0.8999999999999999,
            "bin_end": 1.2,
            "count": 1331
           },
           {
            "bin_start": 1.2,
            "bin_end": 1.5,
            "count": 0
           },
           {
            "bin_start": 1.5,
            "bin_end": 1.7999999999999998,
            "count": 0
           },
           {
            "bin_start": 1.7999999999999998,
            "bin_end": 2.1,
            "count": 65
           },
           {
            "bin_start": 2.1,
            "bin_end": 2.4,
            "count": 0
           },
           {
            "bin_start": 2.4,
            "bin_end": 2.6999999999999997,
            "count": 0
           },
           {
            "bin_start": 2.6999999999999997,
            "bin_end": 3,
            "count": 2
           }
          ]
         }
        },
        {
         "name": "KitchenQual",
         "dtype": "object",
         "stats": {
          "unique_count": 4,
          "nan_count": 0,
          "categories": [
           {
            "name": "TA",
            "count": 733
           },
           {
            "name": "Gd",
            "count": 565
           },
           {
            "name": "2 others",
            "count": 101
           }
          ]
         }
        },
        {
         "name": "TotRmsAbvGrd",
         "dtype": "int64",
         "stats": {
          "unique_count": 12,
          "nan_count": 0,
          "min": "2",
          "max": "14",
          "histogram": [
           {
            "bin_start": 2,
            "bin_end": 3.2,
            "count": 18
           },
           {
            "bin_start": 3.2,
            "bin_end": 4.4,
            "count": 97
           },
           {
            "bin_start": 4.4,
            "bin_end": 5.6,
            "count": 273
           },
           {
            "bin_start": 5.6,
            "bin_end": 6.8,
            "count": 400
           },
           {
            "bin_start": 6.8,
            "bin_end": 8,
            "count": 317
           },
           {
            "bin_start": 8,
            "bin_end": 9.2,
            "count": 242
           },
           {
            "bin_start": 9.2,
            "bin_end": 10.4,
            "count": 32
           },
           {
            "bin_start": 10.4,
            "bin_end": 11.6,
            "count": 11
           },
           {
            "bin_start": 11.6,
            "bin_end": 12.799999999999999,
            "count": 8
           },
           {
            "bin_start": 12.799999999999999,
            "bin_end": 14,
            "count": 1
           }
          ]
         }
        },
        {
         "name": "Functional",
         "dtype": "object",
         "stats": {
          "unique_count": 7,
          "nan_count": 0,
          "categories": [
           {
            "name": "Typ",
            "count": 1300
           },
           {
            "name": "Min2",
            "count": 34
           },
           {
            "name": "5 others",
            "count": 65
           }
          ]
         }
        },
        {
         "name": "Fireplaces",
         "dtype": "int64",
         "stats": {
          "unique_count": 4,
          "nan_count": 0,
          "min": "0",
          "max": "3",
          "histogram": [
           {
            "bin_start": 0,
            "bin_end": 0.3,
            "count": 689
           },
           {
            "bin_start": 0.3,
            "bin_end": 0.6,
            "count": 0
           },
           {
            "bin_start": 0.6,
            "bin_end": 0.8999999999999999,
            "count": 0
           },
           {
            "bin_start": 0.8999999999999999,
            "bin_end": 1.2,
            "count": 607
           },
           {
            "bin_start": 1.2,
            "bin_end": 1.5,
            "count": 0
           },
           {
            "bin_start": 1.5,
            "bin_end": 1.7999999999999998,
            "count": 0
           },
           {
            "bin_start": 1.7999999999999998,
            "bin_end": 2.1,
            "count": 100
           },
           {
            "bin_start": 2.1,
            "bin_end": 2.4,
            "count": 0
           },
           {
            "bin_start": 2.4,
            "bin_end": 2.6999999999999997,
            "count": 0
           },
           {
            "bin_start": 2.6999999999999997,
            "bin_end": 3,
            "count": 3
           }
          ]
         }
        },
        {
         "name": "FireplaceQu",
         "dtype": "object",
         "stats": {
          "unique_count": 6,
          "nan_count": 0,
          "categories": [
           {
            "name": "SNCH",
            "count": 689
           },
           {
            "name": "Gd",
            "count": 340
           },
           {
            "name": "4 others",
            "count": 370
           }
          ]
         }
        },
        {
         "name": "GarageType",
         "dtype": "object",
         "stats": {
          "unique_count": 7,
          "nan_count": 0,
          "categories": [
           {
            "name": "Attchd",
            "count": 826
           },
           {
            "name": "Detchd",
            "count": 386
           },
           {
            "name": "5 others",
            "count": 187
           }
          ]
         }
        },
        {
         "name": "GarageYrBlt",
         "dtype": "float64",
         "stats": {
          "unique_count": 97,
          "nan_count": 81,
          "min": "1900.0",
          "max": "2010.0",
          "histogram": [
           {
            "bin_start": 1900,
            "bin_end": 1911,
            "count": 6
           },
           {
            "bin_start": 1911,
            "bin_end": 1922,
            "count": 28
           },
           {
            "bin_start": 1922,
            "bin_end": 1933,
            "count": 49
           },
           {
            "bin_start": 1933,
            "bin_end": 1944,
            "count": 51
           },
           {
            "bin_start": 1944,
            "bin_end": 1955,
            "count": 93
           },
           {
            "bin_start": 1955,
            "bin_end": 1966,
            "count": 194
           },
           {
            "bin_start": 1966,
            "bin_end": 1977,
            "count": 193
           },
           {
            "bin_start": 1977,
            "bin_end": 1988,
            "count": 138
           },
           {
            "bin_start": 1988,
            "bin_end": 1999,
            "count": 179
           },
           {
            "bin_start": 1999,
            "bin_end": 2010,
            "count": 387
           }
          ]
         }
        },
        {
         "name": "GarageFinish",
         "dtype": "object",
         "stats": {
          "unique_count": 4,
          "nan_count": 0,
          "categories": [
           {
            "name": "Unf",
            "count": 602
           },
           {
            "name": "RFn",
            "count": 409
           },
           {
            "name": "2 others",
            "count": 388
           }
          ]
         }
        },
        {
         "name": "GarageCars",
         "dtype": "int64",
         "stats": {
          "unique_count": 5,
          "nan_count": 0,
          "min": "0",
          "max": "4",
          "histogram": [
           {
            "bin_start": 0,
            "bin_end": 0.4,
            "count": 81
           },
           {
            "bin_start": 0.4,
            "bin_end": 0.8,
            "count": 0
           },
           {
            "bin_start": 0.8,
            "bin_end": 1.2000000000000002,
            "count": 369
           },
           {
            "bin_start": 1.2000000000000002,
            "bin_end": 1.6,
            "count": 0
           },
           {
            "bin_start": 1.6,
            "bin_end": 2,
            "count": 0
           },
           {
            "bin_start": 2,
            "bin_end": 2.4000000000000004,
            "count": 818
           },
           {
            "bin_start": 2.4000000000000004,
            "bin_end": 2.8000000000000003,
            "count": 0
           },
           {
            "bin_start": 2.8000000000000003,
            "bin_end": 3.2,
            "count": 126
           },
           {
            "bin_start": 3.2,
            "bin_end": 3.6,
            "count": 0
           },
           {
            "bin_start": 3.6,
            "bin_end": 4,
            "count": 5
           }
          ]
         }
        },
        {
         "name": "GarageArea",
         "dtype": "int64",
         "stats": {
          "unique_count": 411,
          "nan_count": 0,
          "min": "0",
          "max": "1418",
          "histogram": [
           {
            "bin_start": 0,
            "bin_end": 141.8,
            "count": 81
           },
           {
            "bin_start": 141.8,
            "bin_end": 283.6,
            "count": 167
           },
           {
            "bin_start": 283.6,
            "bin_end": 425.40000000000003,
            "count": 292
           },
           {
            "bin_start": 425.40000000000003,
            "bin_end": 567.2,
            "count": 494
           },
           {
            "bin_start": 567.2,
            "bin_end": 709,
            "count": 231
           },
           {
            "bin_start": 709,
            "bin_end": 850.8000000000001,
            "count": 80
           },
           {
            "bin_start": 850.8000000000001,
            "bin_end": 992.6000000000001,
            "count": 45
           },
           {
            "bin_start": 992.6000000000001,
            "bin_end": 1134.4,
            "count": 5
           },
           {
            "bin_start": 1134.4,
            "bin_end": 1276.2,
            "count": 1
           },
           {
            "bin_start": 1276.2,
            "bin_end": 1418,
            "count": 3
           }
          ]
         }
        },
        {
         "name": "GarageQual",
         "dtype": "object",
         "stats": {
          "unique_count": 6,
          "nan_count": 0,
          "categories": [
           {
            "name": "TA",
            "count": 1251
           },
           {
            "name": "SNGAR",
            "count": 81
           },
           {
            "name": "4 others",
            "count": 67
           }
          ]
         }
        },
        {
         "name": "GarageCond",
         "dtype": "object",
         "stats": {
          "unique_count": 6,
          "nan_count": 0,
          "categories": [
           {
            "name": "TA",
            "count": 1265
           },
           {
            "name": "SNGAR",
            "count": 81
           },
           {
            "name": "4 others",
            "count": 53
           }
          ]
         }
        },
        {
         "name": "PavedDrive",
         "dtype": "object",
         "stats": {
          "unique_count": 3,
          "nan_count": 0,
          "categories": [
           {
            "name": "Y",
            "count": 1279
           },
           {
            "name": "N",
            "count": 90
           },
           {
            "name": "P",
            "count": 30
           }
          ]
         }
        },
        {
         "name": "WoodDeckSF",
         "dtype": "int64",
         "stats": {
          "unique_count": 255,
          "nan_count": 0,
          "min": "0",
          "max": "736",
          "histogram": [
           {
            "bin_start": 0,
            "bin_end": 73.6,
            "count": 801
           },
           {
            "bin_start": 73.6,
            "bin_end": 147.2,
            "count": 210
           },
           {
            "bin_start": 147.2,
            "bin_end": 220.79999999999998,
            "count": 199
           },
           {
            "bin_start": 220.79999999999998,
            "bin_end": 294.4,
            "count": 94
           },
           {
            "bin_start": 294.4,
            "bin_end": 368,
            "count": 50
           },
           {
            "bin_start": 368,
            "bin_end": 441.59999999999997,
            "count": 23
           },
           {
            "bin_start": 441.59999999999997,
            "bin_end": 515.1999999999999,
            "count": 11
           },
           {
            "bin_start": 515.1999999999999,
            "bin_end": 588.8,
            "count": 6
           },
           {
            "bin_start": 588.8,
            "bin_end": 662.4,
            "count": 1
           },
           {
            "bin_start": 662.4,
            "bin_end": 736,
            "count": 4
           }
          ]
         }
        },
        {
         "name": "OpenPorchSF",
         "dtype": "int64",
         "stats": {
          "unique_count": 193,
          "nan_count": 0,
          "min": "0",
          "max": "547",
          "histogram": [
           {
            "bin_start": 0,
            "bin_end": 54.7,
            "count": 987
           },
           {
            "bin_start": 54.7,
            "bin_end": 109.4,
            "count": 217
           },
           {
            "bin_start": 109.4,
            "bin_end": 164.10000000000002,
            "count": 114
           },
           {
            "bin_start": 164.10000000000002,
            "bin_end": 218.8,
            "count": 42
           },
           {
            "bin_start": 218.8,
            "bin_end": 273.5,
            "count": 22
           },
           {
            "bin_start": 273.5,
            "bin_end": 328.20000000000005,
            "count": 10
           },
           {
            "bin_start": 328.20000000000005,
            "bin_end": 382.90000000000003,
            "count": 2
           },
           {
            "bin_start": 382.90000000000003,
            "bin_end": 437.6,
            "count": 2
           },
           {
            "bin_start": 437.6,
            "bin_end": 492.3,
            "count": 0
           },
           {
            "bin_start": 492.3,
            "bin_end": 547,
            "count": 3
           }
          ]
         }
        },
        {
         "name": "EnclosedPorch",
         "dtype": "int64",
         "stats": {
          "unique_count": 118,
          "nan_count": 0,
          "min": "0",
          "max": "552",
          "histogram": [
           {
            "bin_start": 0,
            "bin_end": 55.2,
            "count": 1216
           },
           {
            "bin_start": 55.2,
            "bin_end": 110.4,
            "count": 33
           },
           {
            "bin_start": 110.4,
            "bin_end": 165.60000000000002,
            "count": 68
           },
           {
            "bin_start": 165.60000000000002,
            "bin_end": 220.8,
            "count": 43
           },
           {
            "bin_start": 220.8,
            "bin_end": 276,
            "count": 30
           },
           {
            "bin_start": 276,
            "bin_end": 331.20000000000005,
            "count": 7
           },
           {
            "bin_start": 331.20000000000005,
            "bin_end": 386.40000000000003,
            "count": 1
           },
           {
            "bin_start": 386.40000000000003,
            "bin_end": 441.6,
            "count": 0
           },
           {
            "bin_start": 441.6,
            "bin_end": 496.8,
            "count": 0
           },
           {
            "bin_start": 496.8,
            "bin_end": 552,
            "count": 1
           }
          ]
         }
        },
        {
         "name": "3SsnPorch",
         "dtype": "int64",
         "stats": {
          "unique_count": 18,
          "nan_count": 0,
          "min": "0",
          "max": "508",
          "histogram": [
           {
            "bin_start": 0,
            "bin_end": 50.8,
            "count": 1378
           },
           {
            "bin_start": 50.8,
            "bin_end": 101.6,
            "count": 1
           },
           {
            "bin_start": 101.6,
            "bin_end": 152.39999999999998,
            "count": 4
           },
           {
            "bin_start": 152.39999999999998,
            "bin_end": 203.2,
            "count": 8
           },
           {
            "bin_start": 203.2,
            "bin_end": 254,
            "count": 4
           },
           {
            "bin_start": 254,
            "bin_end": 304.79999999999995,
            "count": 1
           },
           {
            "bin_start": 304.79999999999995,
            "bin_end": 355.59999999999997,
            "count": 1
           },
           {
            "bin_start": 355.59999999999997,
            "bin_end": 406.4,
            "count": 0
           },
           {
            "bin_start": 406.4,
            "bin_end": 457.2,
            "count": 1
           },
           {
            "bin_start": 457.2,
            "bin_end": 508,
            "count": 1
           }
          ]
         }
        },
        {
         "name": "ScreenPorch",
         "dtype": "int64",
         "stats": {
          "unique_count": 74,
          "nan_count": 0,
          "min": "0",
          "max": "480",
          "histogram": [
           {
            "bin_start": 0,
            "bin_end": 48,
            "count": 1291
           },
           {
            "bin_start": 48,
            "bin_end": 96,
            "count": 8
           },
           {
            "bin_start": 96,
            "bin_end": 144,
            "count": 19
           },
           {
            "bin_start": 144,
            "bin_end": 192,
            "count": 38
           },
           {
            "bin_start": 192,
            "bin_end": 240,
            "count": 22
           },
           {
            "bin_start": 240,
            "bin_end": 288,
            "count": 11
           },
           {
            "bin_start": 288,
            "bin_end": 336,
            "count": 5
           },
           {
            "bin_start": 336,
            "bin_end": 384,
            "count": 1
           },
           {
            "bin_start": 384,
            "bin_end": 432,
            "count": 2
           },
           {
            "bin_start": 432,
            "bin_end": 480,
            "count": 2
           }
          ]
         }
        },
        {
         "name": "PoolArea",
         "dtype": "int64"
        },
        {
         "name": "PoolQC",
         "dtype": "object"
        },
        {
         "name": "Fence",
         "dtype": "object"
        },
        {
         "name": "MiscFeature",
         "dtype": "object"
        },
        {
         "name": "MiscVal",
         "dtype": "int64"
        },
        {
         "name": "MoSold",
         "dtype": "int64"
        },
        {
         "name": "YrSold",
         "dtype": "int64"
        },
        {
         "name": "SaleType",
         "dtype": "object"
        },
        {
         "name": "SaleCondition",
         "dtype": "object"
        },
        {
         "name": "SalePrice",
         "dtype": "int64"
        },
        {
         "name": "_deepnote_index_column",
         "dtype": "int64"
        }
       ],
       "rows_top": [
        {
         "Id": 1,
         "MSSubClass": 60,
         "MSZoning": "RL",
         "LotFrontage": 65,
         "LotArea": 8450,
         "Street": "Pave",
         "Alley": "SinCall",
         "LotShape": "Reg",
         "LandContour": "Lvl",
         "Utilities": "AllPub",
         "LotConfig": "Inside",
         "LandSlope": "Gtl",
         "Neighborhood": "CollgCr",
         "Condition1": "Norm",
         "Condition2": "Norm",
         "BldgType": "1Fam",
         "HouseStyle": "2Story",
         "OverallQual": 7,
         "OverallCond": 5,
         "YearBuilt": 2003,
         "YearRemodAdd": 2003,
         "RoofStyle": "Gable",
         "RoofMatl": "CompShg",
         "Exterior1st": "VinylSd",
         "Exterior2nd": "VinylSd",
         "MasVnrType": "BrkFace",
         "MasVnrArea": 196,
         "ExterQual": "Gd",
         "ExterCond": "TA",
         "Foundation": "PConc",
         "BsmtQual": "Gd",
         "BsmtCond": "TA",
         "BsmtExposure": "No",
         "BsmtFinType1": "GLQ",
         "BsmtFinSF1": 706,
         "BsmtFinType2": "Unf",
         "BsmtFinSF2": 0,
         "BsmtUnfSF": 150,
         "TotalBsmtSF": 856,
         "Heating": "GasA",
         "HeatingQC": "Ex",
         "CentralAir": "Y",
         "Electrical": "SBrkr",
         "1stFlrSF": 856,
         "2ndFlrSF": 854,
         "LowQualFinSF": 0,
         "GrLivArea": 1710,
         "BsmtFullBath": 1,
         "BsmtHalfBath": 0,
         "FullBath": 2,
         "HalfBath": 1,
         "BedroomAbvGr": 3,
         "KitchenAbvGr": 1,
         "KitchenQual": "Gd",
         "TotRmsAbvGrd": 8,
         "Functional": "Typ",
         "Fireplaces": 0,
         "FireplaceQu": "SNCH",
         "GarageType": "Attchd",
         "GarageYrBlt": 2003,
         "GarageFinish": "RFn",
         "GarageCars": 2,
         "GarageArea": 548,
         "GarageQual": "TA",
         "GarageCond": "TA",
         "PavedDrive": "Y",
         "WoodDeckSF": 0,
         "OpenPorchSF": 61,
         "EnclosedPorch": 0,
         "3SsnPorch": 0,
         "ScreenPorch": 0,
         "PoolArea": 0,
         "PoolQC": "SNP",
         "Fence": "SNCER",
         "MiscFeature": "SNFEA",
         "MiscVal": 0,
         "MoSold": 2,
         "YrSold": 2008,
         "SaleType": "WD",
         "SaleCondition": "Normal",
         "SalePrice": 208500,
         "_deepnote_index_column": 0
        },
        {
         "Id": 2,
         "MSSubClass": 20,
         "MSZoning": "RL",
         "LotFrontage": 80,
         "LotArea": 9600,
         "Street": "Pave",
         "Alley": "SinCall",
         "LotShape": "Reg",
         "LandContour": "Lvl",
         "Utilities": "AllPub",
         "LotConfig": "FR2",
         "LandSlope": "Gtl",
         "Neighborhood": "Veenker",
         "Condition1": "Feedr",
         "Condition2": "Norm",
         "BldgType": "1Fam",
         "HouseStyle": "1Story",
         "OverallQual": 6,
         "OverallCond": 8,
         "YearBuilt": 1976,
         "YearRemodAdd": 1976,
         "RoofStyle": "Gable",
         "RoofMatl": "CompShg",
         "Exterior1st": "MetalSd",
         "Exterior2nd": "MetalSd",
         "MasVnrType": "Ninguno",
         "MasVnrArea": 0,
         "ExterQual": "TA",
         "ExterCond": "TA",
         "Foundation": "CBlock",
         "BsmtQual": "Gd",
         "BsmtCond": "TA",
         "BsmtExposure": "Gd",
         "BsmtFinType1": "ALQ",
         "BsmtFinSF1": 978,
         "BsmtFinType2": "Unf",
         "BsmtFinSF2": 0,
         "BsmtUnfSF": 284,
         "TotalBsmtSF": 1262,
         "Heating": "GasA",
         "HeatingQC": "Ex",
         "CentralAir": "Y",
         "Electrical": "SBrkr",
         "1stFlrSF": 1262,
         "2ndFlrSF": 0,
         "LowQualFinSF": 0,
         "GrLivArea": 1262,
         "BsmtFullBath": 0,
         "BsmtHalfBath": 1,
         "FullBath": 2,
         "HalfBath": 0,
         "BedroomAbvGr": 3,
         "KitchenAbvGr": 1,
         "KitchenQual": "TA",
         "TotRmsAbvGrd": 6,
         "Functional": "Typ",
         "Fireplaces": 1,
         "FireplaceQu": "TA",
         "GarageType": "Attchd",
         "GarageYrBlt": 1976,
         "GarageFinish": "RFn",
         "GarageCars": 2,
         "GarageArea": 460,
         "GarageQual": "TA",
         "GarageCond": "TA",
         "PavedDrive": "Y",
         "WoodDeckSF": 298,
         "OpenPorchSF": 0,
         "EnclosedPorch": 0,
         "3SsnPorch": 0,
         "ScreenPorch": 0,
         "PoolArea": 0,
         "PoolQC": "SNP",
         "Fence": "SNCER",
         "MiscFeature": "SNFEA",
         "MiscVal": 0,
         "MoSold": 5,
         "YrSold": 2007,
         "SaleType": "WD",
         "SaleCondition": "Normal",
         "SalePrice": 181500,
         "_deepnote_index_column": 1
        },
        {
         "Id": 3,
         "MSSubClass": 60,
         "MSZoning": "RL",
         "LotFrontage": 68,
         "LotArea": 11250,
         "Street": "Pave",
         "Alley": "SinCall",
         "LotShape": "IR1",
         "LandContour": "Lvl",
         "Utilities": "AllPub",
         "LotConfig": "Inside",
         "LandSlope": "Gtl",
         "Neighborhood": "CollgCr",
         "Condition1": "Norm",
         "Condition2": "Norm",
         "BldgType": "1Fam",
         "HouseStyle": "2Story",
         "OverallQual": 7,
         "OverallCond": 5,
         "YearBuilt": 2001,
         "YearRemodAdd": 2002,
         "RoofStyle": "Gable",
         "RoofMatl": "CompShg",
         "Exterior1st": "VinylSd",
         "Exterior2nd": "VinylSd",
         "MasVnrType": "BrkFace",
         "MasVnrArea": 162,
         "ExterQual": "Gd",
         "ExterCond": "TA",
         "Foundation": "PConc",
         "BsmtQual": "Gd",
         "BsmtCond": "TA",
         "BsmtExposure": "Mn",
         "BsmtFinType1": "GLQ",
         "BsmtFinSF1": 486,
         "BsmtFinType2": "Unf",
         "BsmtFinSF2": 0,
         "BsmtUnfSF": 434,
         "TotalBsmtSF": 920,
         "Heating": "GasA",
         "HeatingQC": "Ex",
         "CentralAir": "Y",
         "Electrical": "SBrkr",
         "1stFlrSF": 920,
         "2ndFlrSF": 866,
         "LowQualFinSF": 0,
         "GrLivArea": 1786,
         "BsmtFullBath": 1,
         "BsmtHalfBath": 0,
         "FullBath": 2,
         "HalfBath": 1,
         "BedroomAbvGr": 3,
         "KitchenAbvGr": 1,
         "KitchenQual": "Gd",
         "TotRmsAbvGrd": 6,
         "Functional": "Typ",
         "Fireplaces": 1,
         "FireplaceQu": "TA",
         "GarageType": "Attchd",
         "GarageYrBlt": 2001,
         "GarageFinish": "RFn",
         "GarageCars": 2,
         "GarageArea": 608,
         "GarageQual": "TA",
         "GarageCond": "TA",
         "PavedDrive": "Y",
         "WoodDeckSF": 0,
         "OpenPorchSF": 42,
         "EnclosedPorch": 0,
         "3SsnPorch": 0,
         "ScreenPorch": 0,
         "PoolArea": 0,
         "PoolQC": "SNP",
         "Fence": "SNCER",
         "MiscFeature": "SNFEA",
         "MiscVal": 0,
         "MoSold": 9,
         "YrSold": 2008,
         "SaleType": "WD",
         "SaleCondition": "Normal",
         "SalePrice": 223500,
         "_deepnote_index_column": 2
        },
        {
         "Id": 4,
         "MSSubClass": 70,
         "MSZoning": "RL",
         "LotFrontage": 60,
         "LotArea": 9550,
         "Street": "Pave",
         "Alley": "SinCall",
         "LotShape": "IR1",
         "LandContour": "Lvl",
         "Utilities": "AllPub",
         "LotConfig": "Corner",
         "LandSlope": "Gtl",
         "Neighborhood": "Crawfor",
         "Condition1": "Norm",
         "Condition2": "Norm",
         "BldgType": "1Fam",
         "HouseStyle": "2Story",
         "OverallQual": 7,
         "OverallCond": 5,
         "YearBuilt": 1915,
         "YearRemodAdd": 1970,
         "RoofStyle": "Gable",
         "RoofMatl": "CompShg",
         "Exterior1st": "Wd Sdng",
         "Exterior2nd": "Wd Shng",
         "MasVnrType": "Ninguno",
         "MasVnrArea": 0,
         "ExterQual": "TA",
         "ExterCond": "TA",
         "Foundation": "BrkTil",
         "BsmtQual": "TA",
         "BsmtCond": "Gd",
         "BsmtExposure": "No",
         "BsmtFinType1": "ALQ",
         "BsmtFinSF1": 216,
         "BsmtFinType2": "Unf",
         "BsmtFinSF2": 0,
         "BsmtUnfSF": 540,
         "TotalBsmtSF": 756,
         "Heating": "GasA",
         "HeatingQC": "Gd",
         "CentralAir": "Y",
         "Electrical": "SBrkr",
         "1stFlrSF": 961,
         "2ndFlrSF": 756,
         "LowQualFinSF": 0,
         "GrLivArea": 1717,
         "BsmtFullBath": 1,
         "BsmtHalfBath": 0,
         "FullBath": 1,
         "HalfBath": 0,
         "BedroomAbvGr": 3,
         "KitchenAbvGr": 1,
         "KitchenQual": "Gd",
         "TotRmsAbvGrd": 7,
         "Functional": "Typ",
         "Fireplaces": 1,
         "FireplaceQu": "Gd",
         "GarageType": "Detchd",
         "GarageYrBlt": 1998,
         "GarageFinish": "Unf",
         "GarageCars": 3,
         "GarageArea": 642,
         "GarageQual": "TA",
         "GarageCond": "TA",
         "PavedDrive": "Y",
         "WoodDeckSF": 0,
         "OpenPorchSF": 35,
         "EnclosedPorch": 272,
         "3SsnPorch": 0,
         "ScreenPorch": 0,
         "PoolArea": 0,
         "PoolQC": "SNP",
         "Fence": "SNCER",
         "MiscFeature": "SNFEA",
         "MiscVal": 0,
         "MoSold": 2,
         "YrSold": 2006,
         "SaleType": "WD",
         "SaleCondition": "Abnorml",
         "SalePrice": 140000,
         "_deepnote_index_column": 3
        },
        {
         "Id": 5,
         "MSSubClass": 60,
         "MSZoning": "RL",
         "LotFrontage": 84,
         "LotArea": 14260,
         "Street": "Pave",
         "Alley": "SinCall",
         "LotShape": "IR1",
         "LandContour": "Lvl",
         "Utilities": "AllPub",
         "LotConfig": "FR2",
         "LandSlope": "Gtl",
         "Neighborhood": "NoRidge",
         "Condition1": "Norm",
         "Condition2": "Norm",
         "BldgType": "1Fam",
         "HouseStyle": "2Story",
         "OverallQual": 8,
         "OverallCond": 5,
         "YearBuilt": 2000,
         "YearRemodAdd": 2000,
         "RoofStyle": "Gable",
         "RoofMatl": "CompShg",
         "Exterior1st": "VinylSd",
         "Exterior2nd": "VinylSd",
         "MasVnrType": "BrkFace",
         "MasVnrArea": 350,
         "ExterQual": "Gd",
         "ExterCond": "TA",
         "Foundation": "PConc",
         "BsmtQual": "Gd",
         "BsmtCond": "TA",
         "BsmtExposure": "Av",
         "BsmtFinType1": "GLQ",
         "BsmtFinSF1": 655,
         "BsmtFinType2": "Unf",
         "BsmtFinSF2": 0,
         "BsmtUnfSF": 490,
         "TotalBsmtSF": 1145,
         "Heating": "GasA",
         "HeatingQC": "Ex",
         "CentralAir": "Y",
         "Electrical": "SBrkr",
         "1stFlrSF": 1145,
         "2ndFlrSF": 1053,
         "LowQualFinSF": 0,
         "GrLivArea": 2198,
         "BsmtFullBath": 1,
         "BsmtHalfBath": 0,
         "FullBath": 2,
         "HalfBath": 1,
         "BedroomAbvGr": 4,
         "KitchenAbvGr": 1,
         "KitchenQual": "Gd",
         "TotRmsAbvGrd": 9,
         "Functional": "Typ",
         "Fireplaces": 1,
         "FireplaceQu": "TA",
         "GarageType": "Attchd",
         "GarageYrBlt": 2000,
         "GarageFinish": "RFn",
         "GarageCars": 3,
         "GarageArea": 836,
         "GarageQual": "TA",
         "GarageCond": "TA",
         "PavedDrive": "Y",
         "WoodDeckSF": 192,
         "OpenPorchSF": 84,
         "EnclosedPorch": 0,
         "3SsnPorch": 0,
         "ScreenPorch": 0,
         "PoolArea": 0,
         "PoolQC": "SNP",
         "Fence": "SNCER",
         "MiscFeature": "SNFEA",
         "MiscVal": 0,
         "MoSold": 12,
         "YrSold": 2008,
         "SaleType": "WD",
         "SaleCondition": "Normal",
         "SalePrice": 250000,
         "_deepnote_index_column": 4
        },
        {
         "Id": 6,
         "MSSubClass": 50,
         "MSZoning": "RL",
         "LotFrontage": 85,
         "LotArea": 14115,
         "Street": "Pave",
         "Alley": "SinCall",
         "LotShape": "IR1",
         "LandContour": "Lvl",
         "Utilities": "AllPub",
         "LotConfig": "Inside",
         "LandSlope": "Gtl",
         "Neighborhood": "Mitchel",
         "Condition1": "Norm",
         "Condition2": "Norm",
         "BldgType": "1Fam",
         "HouseStyle": "1.5Fin",
         "OverallQual": 5,
         "OverallCond": 5,
         "YearBuilt": 1993,
         "YearRemodAdd": 1995,
         "RoofStyle": "Gable",
         "RoofMatl": "CompShg",
         "Exterior1st": "VinylSd",
         "Exterior2nd": "VinylSd",
         "MasVnrType": "Ninguno",
         "MasVnrArea": 0,
         "ExterQual": "TA",
         "ExterCond": "TA",
         "Foundation": "Wood",
         "BsmtQual": "Gd",
         "BsmtCond": "TA",
         "BsmtExposure": "No",
         "BsmtFinType1": "GLQ",
         "BsmtFinSF1": 732,
         "BsmtFinType2": "Unf",
         "BsmtFinSF2": 0,
         "BsmtUnfSF": 64,
         "TotalBsmtSF": 796,
         "Heating": "GasA",
         "HeatingQC": "Ex",
         "CentralAir": "Y",
         "Electrical": "SBrkr",
         "1stFlrSF": 796,
         "2ndFlrSF": 566,
         "LowQualFinSF": 0,
         "GrLivArea": 1362,
         "BsmtFullBath": 1,
         "BsmtHalfBath": 0,
         "FullBath": 1,
         "HalfBath": 1,
         "BedroomAbvGr": 1,
         "KitchenAbvGr": 1,
         "KitchenQual": "TA",
         "TotRmsAbvGrd": 5,
         "Functional": "Typ",
         "Fireplaces": 0,
         "FireplaceQu": "SNCH",
         "GarageType": "Attchd",
         "GarageYrBlt": 1993,
         "GarageFinish": "Unf",
         "GarageCars": 2,
         "GarageArea": 480,
         "GarageQual": "TA",
         "GarageCond": "TA",
         "PavedDrive": "Y",
         "WoodDeckSF": 40,
         "OpenPorchSF": 30,
         "EnclosedPorch": 0,
         "3SsnPorch": 320,
         "ScreenPorch": 0,
         "PoolArea": 0,
         "PoolQC": "SNP",
         "Fence": "MnPrv",
         "MiscFeature": "Shed",
         "MiscVal": 700,
         "MoSold": 10,
         "YrSold": 2009,
         "SaleType": "WD",
         "SaleCondition": "Normal",
         "SalePrice": 143000,
         "_deepnote_index_column": 5
        }
       ],
       "rows_bottom": [
        {
         "Id": 1455,
         "MSSubClass": 20,
         "MSZoning": "FV",
         "LotFrontage": 62,
         "LotArea": 7500,
         "Street": "Pave",
         "Alley": "Pave",
         "LotShape": "Reg",
         "LandContour": "Lvl",
         "Utilities": "AllPub",
         "LotConfig": "Inside",
         "LandSlope": "Gtl",
         "Neighborhood": "Somerst",
         "Condition1": "Norm",
         "Condition2": "Norm",
         "BldgType": "1Fam",
         "HouseStyle": "1Story",
         "OverallQual": 7,
         "OverallCond": 5,
         "YearBuilt": 2004,
         "YearRemodAdd": 2005,
         "RoofStyle": "Gable",
         "RoofMatl": "CompShg",
         "Exterior1st": "VinylSd",
         "Exterior2nd": "VinylSd",
         "MasVnrType": "Ninguno",
         "MasVnrArea": 0,
         "ExterQual": "Gd",
         "ExterCond": "TA",
         "Foundation": "PConc",
         "BsmtQual": "Gd",
         "BsmtCond": "TA",
         "BsmtExposure": "No",
         "BsmtFinType1": "GLQ",
         "BsmtFinSF1": 410,
         "BsmtFinType2": "Unf",
         "BsmtFinSF2": 0,
         "BsmtUnfSF": 811,
         "TotalBsmtSF": 1221,
         "Heating": "GasA",
         "HeatingQC": "Ex",
         "CentralAir": "Y",
         "Electrical": "SBrkr",
         "1stFlrSF": 1221,
         "2ndFlrSF": 0,
         "LowQualFinSF": 0,
         "GrLivArea": 1221,
         "BsmtFullBath": 1,
         "BsmtHalfBath": 0,
         "FullBath": 2,
         "HalfBath": 0,
         "BedroomAbvGr": 2,
         "KitchenAbvGr": 1,
         "KitchenQual": "Gd",
         "TotRmsAbvGrd": 6,
         "Functional": "Typ",
         "Fireplaces": 0,
         "FireplaceQu": "SNCH",
         "GarageType": "Attchd",
         "GarageYrBlt": 2004,
         "GarageFinish": "RFn",
         "GarageCars": 2,
         "GarageArea": 400,
         "GarageQual": "TA",
         "GarageCond": "TA",
         "PavedDrive": "Y",
         "WoodDeckSF": 0,
         "OpenPorchSF": 113,
         "EnclosedPorch": 0,
         "3SsnPorch": 0,
         "ScreenPorch": 0,
         "PoolArea": 0,
         "PoolQC": "SNP",
         "Fence": "SNCER",
         "MiscFeature": "SNFEA",
         "MiscVal": 0,
         "MoSold": 10,
         "YrSold": 2009,
         "SaleType": "WD",
         "SaleCondition": "Normal",
         "SalePrice": 185000,
         "_deepnote_index_column": 1454
        },
        {
         "Id": 1456,
         "MSSubClass": 60,
         "MSZoning": "RL",
         "LotFrontage": 62,
         "LotArea": 7917,
         "Street": "Pave",
         "Alley": "SinCall",
         "LotShape": "Reg",
         "LandContour": "Lvl",
         "Utilities": "AllPub",
         "LotConfig": "Inside",
         "LandSlope": "Gtl",
         "Neighborhood": "Gilbert",
         "Condition1": "Norm",
         "Condition2": "Norm",
         "BldgType": "1Fam",
         "HouseStyle": "2Story",
         "OverallQual": 6,
         "OverallCond": 5,
         "YearBuilt": 1999,
         "YearRemodAdd": 2000,
         "RoofStyle": "Gable",
         "RoofMatl": "CompShg",
         "Exterior1st": "VinylSd",
         "Exterior2nd": "VinylSd",
         "MasVnrType": "Ninguno",
         "MasVnrArea": 0,
         "ExterQual": "TA",
         "ExterCond": "TA",
         "Foundation": "PConc",
         "BsmtQual": "Gd",
         "BsmtCond": "TA",
         "BsmtExposure": "No",
         "BsmtFinType1": "Unf",
         "BsmtFinSF1": 0,
         "BsmtFinType2": "Unf",
         "BsmtFinSF2": 0,
         "BsmtUnfSF": 953,
         "TotalBsmtSF": 953,
         "Heating": "GasA",
         "HeatingQC": "Ex",
         "CentralAir": "Y",
         "Electrical": "SBrkr",
         "1stFlrSF": 953,
         "2ndFlrSF": 694,
         "LowQualFinSF": 0,
         "GrLivArea": 1647,
         "BsmtFullBath": 0,
         "BsmtHalfBath": 0,
         "FullBath": 2,
         "HalfBath": 1,
         "BedroomAbvGr": 3,
         "KitchenAbvGr": 1,
         "KitchenQual": "TA",
         "TotRmsAbvGrd": 7,
         "Functional": "Typ",
         "Fireplaces": 1,
         "FireplaceQu": "TA",
         "GarageType": "Attchd",
         "GarageYrBlt": 1999,
         "GarageFinish": "RFn",
         "GarageCars": 2,
         "GarageArea": 460,
         "GarageQual": "TA",
         "GarageCond": "TA",
         "PavedDrive": "Y",
         "WoodDeckSF": 0,
         "OpenPorchSF": 40,
         "EnclosedPorch": 0,
         "3SsnPorch": 0,
         "ScreenPorch": 0,
         "PoolArea": 0,
         "PoolQC": "SNP",
         "Fence": "SNCER",
         "MiscFeature": "SNFEA",
         "MiscVal": 0,
         "MoSold": 8,
         "YrSold": 2007,
         "SaleType": "WD",
         "SaleCondition": "Normal",
         "SalePrice": 175000,
         "_deepnote_index_column": 1455
        },
        {
         "Id": 1457,
         "MSSubClass": 20,
         "MSZoning": "RL",
         "LotFrontage": 85,
         "LotArea": 13175,
         "Street": "Pave",
         "Alley": "SinCall",
         "LotShape": "Reg",
         "LandContour": "Lvl",
         "Utilities": "AllPub",
         "LotConfig": "Inside",
         "LandSlope": "Gtl",
         "Neighborhood": "NWAmes",
         "Condition1": "Norm",
         "Condition2": "Norm",
         "BldgType": "1Fam",
         "HouseStyle": "1Story",
         "OverallQual": 6,
         "OverallCond": 6,
         "YearBuilt": 1978,
         "YearRemodAdd": 1988,
         "RoofStyle": "Gable",
         "RoofMatl": "CompShg",
         "Exterior1st": "Plywood",
         "Exterior2nd": "Plywood",
         "MasVnrType": "Stone",
         "MasVnrArea": 119,
         "ExterQual": "TA",
         "ExterCond": "TA",
         "Foundation": "CBlock",
         "BsmtQual": "Gd",
         "BsmtCond": "TA",
         "BsmtExposure": "No",
         "BsmtFinType1": "ALQ",
         "BsmtFinSF1": 790,
         "BsmtFinType2": "Rec",
         "BsmtFinSF2": 163,
         "BsmtUnfSF": 589,
         "TotalBsmtSF": 1542,
         "Heating": "GasA",
         "HeatingQC": "TA",
         "CentralAir": "Y",
         "Electrical": "SBrkr",
         "1stFlrSF": 2073,
         "2ndFlrSF": 0,
         "LowQualFinSF": 0,
         "GrLivArea": 2073,
         "BsmtFullBath": 1,
         "BsmtHalfBath": 0,
         "FullBath": 2,
         "HalfBath": 0,
         "BedroomAbvGr": 3,
         "KitchenAbvGr": 1,
         "KitchenQual": "TA",
         "TotRmsAbvGrd": 7,
         "Functional": "Min1",
         "Fireplaces": 2,
         "FireplaceQu": "TA",
         "GarageType": "Attchd",
         "GarageYrBlt": 1978,
         "GarageFinish": "Unf",
         "GarageCars": 2,
         "GarageArea": 500,
         "GarageQual": "TA",
         "GarageCond": "TA",
         "PavedDrive": "Y",
         "WoodDeckSF": 349,
         "OpenPorchSF": 0,
         "EnclosedPorch": 0,
         "3SsnPorch": 0,
         "ScreenPorch": 0,
         "PoolArea": 0,
         "PoolQC": "SNP",
         "Fence": "MnPrv",
         "MiscFeature": "SNFEA",
         "MiscVal": 0,
         "MoSold": 2,
         "YrSold": 2010,
         "SaleType": "WD",
         "SaleCondition": "Normal",
         "SalePrice": 210000,
         "_deepnote_index_column": 1456
        },
        {
         "Id": 1458,
         "MSSubClass": 70,
         "MSZoning": "RL",
         "LotFrontage": 66,
         "LotArea": 9042,
         "Street": "Pave",
         "Alley": "SinCall",
         "LotShape": "Reg",
         "LandContour": "Lvl",
         "Utilities": "AllPub",
         "LotConfig": "Inside",
         "LandSlope": "Gtl",
         "Neighborhood": "Crawfor",
         "Condition1": "Norm",
         "Condition2": "Norm",
         "BldgType": "1Fam",
         "HouseStyle": "2Story",
         "OverallQual": 7,
         "OverallCond": 9,
         "YearBuilt": 1941,
         "YearRemodAdd": 2006,
         "RoofStyle": "Gable",
         "RoofMatl": "CompShg",
         "Exterior1st": "CemntBd",
         "Exterior2nd": "CmentBd",
         "MasVnrType": "Ninguno",
         "MasVnrArea": 0,
         "ExterQual": "Ex",
         "ExterCond": "Gd",
         "Foundation": "Stone",
         "BsmtQual": "TA",
         "BsmtCond": "Gd",
         "BsmtExposure": "No",
         "BsmtFinType1": "GLQ",
         "BsmtFinSF1": 275,
         "BsmtFinType2": "Unf",
         "BsmtFinSF2": 0,
         "BsmtUnfSF": 877,
         "TotalBsmtSF": 1152,
         "Heating": "GasA",
         "HeatingQC": "Ex",
         "CentralAir": "Y",
         "Electrical": "SBrkr",
         "1stFlrSF": 1188,
         "2ndFlrSF": 1152,
         "LowQualFinSF": 0,
         "GrLivArea": 2340,
         "BsmtFullBath": 0,
         "BsmtHalfBath": 0,
         "FullBath": 2,
         "HalfBath": 0,
         "BedroomAbvGr": 4,
         "KitchenAbvGr": 1,
         "KitchenQual": "Gd",
         "TotRmsAbvGrd": 9,
         "Functional": "Typ",
         "Fireplaces": 2,
         "FireplaceQu": "Gd",
         "GarageType": "Attchd",
         "GarageYrBlt": 1941,
         "GarageFinish": "RFn",
         "GarageCars": 1,
         "GarageArea": 252,
         "GarageQual": "TA",
         "GarageCond": "TA",
         "PavedDrive": "Y",
         "WoodDeckSF": 0,
         "OpenPorchSF": 60,
         "EnclosedPorch": 0,
         "3SsnPorch": 0,
         "ScreenPorch": 0,
         "PoolArea": 0,
         "PoolQC": "SNP",
         "Fence": "GdPrv",
         "MiscFeature": "Shed",
         "MiscVal": 2500,
         "MoSold": 5,
         "YrSold": 2010,
         "SaleType": "WD",
         "SaleCondition": "Normal",
         "SalePrice": 266500,
         "_deepnote_index_column": 1457
        },
        {
         "Id": 1459,
         "MSSubClass": 20,
         "MSZoning": "RL",
         "LotFrontage": 68,
         "LotArea": 9717,
         "Street": "Pave",
         "Alley": "SinCall",
         "LotShape": "Reg",
         "LandContour": "Lvl",
         "Utilities": "AllPub",
         "LotConfig": "Inside",
         "LandSlope": "Gtl",
         "Neighborhood": "NAmes",
         "Condition1": "Norm",
         "Condition2": "Norm",
         "BldgType": "1Fam",
         "HouseStyle": "1Story",
         "OverallQual": 5,
         "OverallCond": 6,
         "YearBuilt": 1950,
         "YearRemodAdd": 1996,
         "RoofStyle": "Hip",
         "RoofMatl": "CompShg",
         "Exterior1st": "MetalSd",
         "Exterior2nd": "MetalSd",
         "MasVnrType": "Ninguno",
         "MasVnrArea": 0,
         "ExterQual": "TA",
         "ExterCond": "TA",
         "Foundation": "CBlock",
         "BsmtQual": "TA",
         "BsmtCond": "TA",
         "BsmtExposure": "Mn",
         "BsmtFinType1": "GLQ",
         "BsmtFinSF1": 49,
         "BsmtFinType2": "Rec",
         "BsmtFinSF2": 1029,
         "BsmtUnfSF": 0,
         "TotalBsmtSF": 1078,
         "Heating": "GasA",
         "HeatingQC": "Gd",
         "CentralAir": "Y",
         "Electrical": "FuseA",
         "1stFlrSF": 1078,
         "2ndFlrSF": 0,
         "LowQualFinSF": 0,
         "GrLivArea": 1078,
         "BsmtFullBath": 1,
         "BsmtHalfBath": 0,
         "FullBath": 1,
         "HalfBath": 0,
         "BedroomAbvGr": 2,
         "KitchenAbvGr": 1,
         "KitchenQual": "Gd",
         "TotRmsAbvGrd": 5,
         "Functional": "Typ",
         "Fireplaces": 0,
         "FireplaceQu": "SNCH",
         "GarageType": "Attchd",
         "GarageYrBlt": 1950,
         "GarageFinish": "Unf",
         "GarageCars": 1,
         "GarageArea": 240,
         "GarageQual": "TA",
         "GarageCond": "TA",
         "PavedDrive": "Y",
         "WoodDeckSF": 366,
         "OpenPorchSF": 0,
         "EnclosedPorch": 112,
         "3SsnPorch": 0,
         "ScreenPorch": 0,
         "PoolArea": 0,
         "PoolQC": "SNP",
         "Fence": "SNCER",
         "MiscFeature": "SNFEA",
         "MiscVal": 0,
         "MoSold": 4,
         "YrSold": 2010,
         "SaleType": "WD",
         "SaleCondition": "Normal",
         "SalePrice": 142125,
         "_deepnote_index_column": 1458
        },
        {
         "Id": 1460,
         "MSSubClass": 20,
         "MSZoning": "RL",
         "LotFrontage": 75,
         "LotArea": 9937,
         "Street": "Pave",
         "Alley": "SinCall",
         "LotShape": "Reg",
         "LandContour": "Lvl",
         "Utilities": "AllPub",
         "LotConfig": "Inside",
         "LandSlope": "Gtl",
         "Neighborhood": "Edwards",
         "Condition1": "Norm",
         "Condition2": "Norm",
         "BldgType": "1Fam",
         "HouseStyle": "1Story",
         "OverallQual": 5,
         "OverallCond": 6,
         "YearBuilt": 1965,
         "YearRemodAdd": 1965,
         "RoofStyle": "Gable",
         "RoofMatl": "CompShg",
         "Exterior1st": "HdBoard",
         "Exterior2nd": "HdBoard",
         "MasVnrType": "Ninguno",
         "MasVnrArea": 0,
         "ExterQual": "Gd",
         "ExterCond": "TA",
         "Foundation": "CBlock",
         "BsmtQual": "TA",
         "BsmtCond": "TA",
         "BsmtExposure": "No",
         "BsmtFinType1": "BLQ",
         "BsmtFinSF1": 830,
         "BsmtFinType2": "LwQ",
         "BsmtFinSF2": 290,
         "BsmtUnfSF": 136,
         "TotalBsmtSF": 1256,
         "Heating": "GasA",
         "HeatingQC": "Gd",
         "CentralAir": "Y",
         "Electrical": "SBrkr",
         "1stFlrSF": 1256,
         "2ndFlrSF": 0,
         "LowQualFinSF": 0,
         "GrLivArea": 1256,
         "BsmtFullBath": 1,
         "BsmtHalfBath": 0,
         "FullBath": 1,
         "HalfBath": 1,
         "BedroomAbvGr": 3,
         "KitchenAbvGr": 1,
         "KitchenQual": "TA",
         "TotRmsAbvGrd": 6,
         "Functional": "Typ",
         "Fireplaces": 0,
         "FireplaceQu": "SNCH",
         "GarageType": "Attchd",
         "GarageYrBlt": 1965,
         "GarageFinish": "Fin",
         "GarageCars": 1,
         "GarageArea": 276,
         "GarageQual": "TA",
         "GarageCond": "TA",
         "PavedDrive": "Y",
         "WoodDeckSF": 736,
         "OpenPorchSF": 68,
         "EnclosedPorch": 0,
         "3SsnPorch": 0,
         "ScreenPorch": 0,
         "PoolArea": 0,
         "PoolQC": "SNP",
         "Fence": "SNCER",
         "MiscFeature": "SNFEA",
         "MiscVal": 0,
         "MoSold": 6,
         "YrSold": 2008,
         "SaleType": "WD",
         "SaleCondition": "Normal",
         "SalePrice": 147500,
         "_deepnote_index_column": 1459
        }
       ]
      },
      "text/plain": "        Id  MSSubClass MSZoning  LotFrontage  LotArea Street    Alley  \\\n0        1          60       RL         65.0     8450   Pave  SinCall   \n1        2          20       RL         80.0     9600   Pave  SinCall   \n2        3          60       RL         68.0    11250   Pave  SinCall   \n3        4          70       RL         60.0     9550   Pave  SinCall   \n4        5          60       RL         84.0    14260   Pave  SinCall   \n...    ...         ...      ...          ...      ...    ...      ...   \n1455  1456          60       RL         62.0     7917   Pave  SinCall   \n1456  1457          20       RL         85.0    13175   Pave  SinCall   \n1457  1458          70       RL         66.0     9042   Pave  SinCall   \n1458  1459          20       RL         68.0     9717   Pave  SinCall   \n1459  1460          20       RL         75.0     9937   Pave  SinCall   \n\n     LotShape LandContour Utilities  ... PoolArea PoolQC  Fence MiscFeature  \\\n0         Reg         Lvl    AllPub  ...        0    SNP  SNCER       SNFEA   \n1         Reg         Lvl    AllPub  ...        0    SNP  SNCER       SNFEA   \n2         IR1         Lvl    AllPub  ...        0    SNP  SNCER       SNFEA   \n3         IR1         Lvl    AllPub  ...        0    SNP  SNCER       SNFEA   \n4         IR1         Lvl    AllPub  ...        0    SNP  SNCER       SNFEA   \n...       ...         ...       ...  ...      ...    ...    ...         ...   \n1455      Reg         Lvl    AllPub  ...        0    SNP  SNCER       SNFEA   \n1456      Reg         Lvl    AllPub  ...        0    SNP  MnPrv       SNFEA   \n1457      Reg         Lvl    AllPub  ...        0    SNP  GdPrv        Shed   \n1458      Reg         Lvl    AllPub  ...        0    SNP  SNCER       SNFEA   \n1459      Reg         Lvl    AllPub  ...        0    SNP  SNCER       SNFEA   \n\n     MiscVal MoSold YrSold  SaleType  SaleCondition  SalePrice  \n0          0      2   2008        WD         Normal     208500  \n1          0      5   2007        WD         Normal     181500  \n2          0      9   2008        WD         Normal     223500  \n3          0      2   2006        WD        Abnorml     140000  \n4          0     12   2008        WD         Normal     250000  \n...      ...    ...    ...       ...            ...        ...  \n1455       0      8   2007        WD         Normal     175000  \n1456       0      2   2010        WD         Normal     210000  \n1457    2500      5   2010        WD         Normal     266500  \n1458       0      4   2010        WD         Normal     142125  \n1459       0      6   2008        WD         Normal     147500  \n\n[1399 rows x 81 columns]",
      "text/html": "<div>\n<style scoped>\n    .dataframe tbody tr th:only-of-type {\n        vertical-align: middle;\n    }\n\n    .dataframe tbody tr th {\n        vertical-align: top;\n    }\n\n    .dataframe thead th {\n        text-align: right;\n    }\n</style>\n<table border=\"1\" class=\"dataframe\">\n  <thead>\n    <tr style=\"text-align: right;\">\n      <th></th>\n      <th>Id</th>\n      <th>MSSubClass</th>\n      <th>MSZoning</th>\n      <th>LotFrontage</th>\n      <th>LotArea</th>\n      <th>Street</th>\n      <th>Alley</th>\n      <th>LotShape</th>\n      <th>LandContour</th>\n      <th>Utilities</th>\n      <th>...</th>\n      <th>PoolArea</th>\n      <th>PoolQC</th>\n      <th>Fence</th>\n      <th>MiscFeature</th>\n      <th>MiscVal</th>\n      <th>MoSold</th>\n      <th>YrSold</th>\n      <th>SaleType</th>\n      <th>SaleCondition</th>\n      <th>SalePrice</th>\n    </tr>\n  </thead>\n  <tbody>\n    <tr>\n      <th>0</th>\n      <td>1</td>\n      <td>60</td>\n      <td>RL</td>\n      <td>65.0</td>\n      <td>8450</td>\n      <td>Pave</td>\n      <td>SinCall</td>\n      <td>Reg</td>\n      <td>Lvl</td>\n      <td>AllPub</td>\n      <td>...</td>\n      <td>0</td>\n      <td>SNP</td>\n      <td>SNCER</td>\n      <td>SNFEA</td>\n      <td>0</td>\n      <td>2</td>\n      <td>2008</td>\n      <td>WD</td>\n      <td>Normal</td>\n      <td>208500</td>\n    </tr>\n    <tr>\n      <th>1</th>\n      <td>2</td>\n      <td>20</td>\n      <td>RL</td>\n      <td>80.0</td>\n      <td>9600</td>\n      <td>Pave</td>\n      <td>SinCall</td>\n      <td>Reg</td>\n      <td>Lvl</td>\n      <td>AllPub</td>\n      <td>...</td>\n      <td>0</td>\n      <td>SNP</td>\n      <td>SNCER</td>\n      <td>SNFEA</td>\n      <td>0</td>\n      <td>5</td>\n      <td>2007</td>\n      <td>WD</td>\n      <td>Normal</td>\n      <td>181500</td>\n    </tr>\n    <tr>\n      <th>2</th>\n      <td>3</td>\n      <td>60</td>\n      <td>RL</td>\n      <td>68.0</td>\n      <td>11250</td>\n      <td>Pave</td>\n      <td>SinCall</td>\n      <td>IR1</td>\n      <td>Lvl</td>\n      <td>AllPub</td>\n      <td>...</td>\n      <td>0</td>\n      <td>SNP</td>\n      <td>SNCER</td>\n      <td>SNFEA</td>\n      <td>0</td>\n      <td>9</td>\n      <td>2008</td>\n      <td>WD</td>\n      <td>Normal</td>\n      <td>223500</td>\n    </tr>\n    <tr>\n      <th>3</th>\n      <td>4</td>\n      <td>70</td>\n      <td>RL</td>\n      <td>60.0</td>\n      <td>9550</td>\n      <td>Pave</td>\n      <td>SinCall</td>\n      <td>IR1</td>\n      <td>Lvl</td>\n      <td>AllPub</td>\n      <td>...</td>\n      <td>0</td>\n      <td>SNP</td>\n      <td>SNCER</td>\n      <td>SNFEA</td>\n      <td>0</td>\n      <td>2</td>\n      <td>2006</td>\n      <td>WD</td>\n      <td>Abnorml</td>\n      <td>140000</td>\n    </tr>\n    <tr>\n      <th>4</th>\n      <td>5</td>\n      <td>60</td>\n      <td>RL</td>\n      <td>84.0</td>\n      <td>14260</td>\n      <td>Pave</td>\n      <td>SinCall</td>\n      <td>IR1</td>\n      <td>Lvl</td>\n      <td>AllPub</td>\n      <td>...</td>\n      <td>0</td>\n      <td>SNP</td>\n      <td>SNCER</td>\n      <td>SNFEA</td>\n      <td>0</td>\n      <td>12</td>\n      <td>2008</td>\n      <td>WD</td>\n      <td>Normal</td>\n      <td>250000</td>\n    </tr>\n    <tr>\n      <th>...</th>\n      <td>...</td>\n      <td>...</td>\n      <td>...</td>\n      <td>...</td>\n      <td>...</td>\n      <td>...</td>\n      <td>...</td>\n      <td>...</td>\n      <td>...</td>\n      <td>...</td>\n      <td>...</td>\n      <td>...</td>\n      <td>...</td>\n      <td>...</td>\n      <td>...</td>\n      <td>...</td>\n      <td>...</td>\n      <td>...</td>\n      <td>...</td>\n      <td>...</td>\n      <td>...</td>\n    </tr>\n    <tr>\n      <th>1455</th>\n      <td>1456</td>\n      <td>60</td>\n      <td>RL</td>\n      <td>62.0</td>\n      <td>7917</td>\n      <td>Pave</td>\n      <td>SinCall</td>\n      <td>Reg</td>\n      <td>Lvl</td>\n      <td>AllPub</td>\n      <td>...</td>\n      <td>0</td>\n      <td>SNP</td>\n      <td>SNCER</td>\n      <td>SNFEA</td>\n      <td>0</td>\n      <td>8</td>\n      <td>2007</td>\n      <td>WD</td>\n      <td>Normal</td>\n      <td>175000</td>\n    </tr>\n    <tr>\n      <th>1456</th>\n      <td>1457</td>\n      <td>20</td>\n      <td>RL</td>\n      <td>85.0</td>\n      <td>13175</td>\n      <td>Pave</td>\n      <td>SinCall</td>\n      <td>Reg</td>\n      <td>Lvl</td>\n      <td>AllPub</td>\n      <td>...</td>\n      <td>0</td>\n      <td>SNP</td>\n      <td>MnPrv</td>\n      <td>SNFEA</td>\n      <td>0</td>\n      <td>2</td>\n      <td>2010</td>\n      <td>WD</td>\n      <td>Normal</td>\n      <td>210000</td>\n    </tr>\n    <tr>\n      <th>1457</th>\n      <td>1458</td>\n      <td>70</td>\n      <td>RL</td>\n      <td>66.0</td>\n      <td>9042</td>\n      <td>Pave</td>\n      <td>SinCall</td>\n      <td>Reg</td>\n      <td>Lvl</td>\n      <td>AllPub</td>\n      <td>...</td>\n      <td>0</td>\n      <td>SNP</td>\n      <td>GdPrv</td>\n      <td>Shed</td>\n      <td>2500</td>\n      <td>5</td>\n      <td>2010</td>\n      <td>WD</td>\n      <td>Normal</td>\n      <td>266500</td>\n    </tr>\n    <tr>\n      <th>1458</th>\n      <td>1459</td>\n      <td>20</td>\n      <td>RL</td>\n      <td>68.0</td>\n      <td>9717</td>\n      <td>Pave</td>\n      <td>SinCall</td>\n      <td>Reg</td>\n      <td>Lvl</td>\n      <td>AllPub</td>\n      <td>...</td>\n      <td>0</td>\n      <td>SNP</td>\n      <td>SNCER</td>\n      <td>SNFEA</td>\n      <td>0</td>\n      <td>4</td>\n      <td>2010</td>\n      <td>WD</td>\n      <td>Normal</td>\n      <td>142125</td>\n    </tr>\n    <tr>\n      <th>1459</th>\n      <td>1460</td>\n      <td>20</td>\n      <td>RL</td>\n      <td>75.0</td>\n      <td>9937</td>\n      <td>Pave</td>\n      <td>SinCall</td>\n      <td>Reg</td>\n      <td>Lvl</td>\n      <td>AllPub</td>\n      <td>...</td>\n      <td>0</td>\n      <td>SNP</td>\n      <td>SNCER</td>\n      <td>SNFEA</td>\n      <td>0</td>\n      <td>6</td>\n      <td>2008</td>\n      <td>WD</td>\n      <td>Normal</td>\n      <td>147500</td>\n    </tr>\n  </tbody>\n</table>\n<p>1399 rows × 81 columns</p>\n</div>"
     },
     "metadata": {}
    }
   ],
   "execution_count": null
  },
  {
   "cell_type": "markdown",
   "source": "Normalizacion Lineal\n- OverallQual\n- TotRmsAbvGrd\n- GarageArea\n- SalePrice",
   "metadata": {
    "tags": [],
    "cell_id": "00008-f4142704-6702-4629-adab-555c440057a0",
    "deepnote_cell_type": "markdown"
   }
  },
  {
   "cell_type": "code",
   "metadata": {
    "tags": [],
    "cell_id": "00002-aeaf833a-a015-4481-a5af-032f0860a7db",
    "deepnote_to_be_reexecuted": false,
    "source_hash": "cd653304",
    "execution_start": 1628912808166,
    "execution_millis": 661,
    "deepnote_cell_type": "code"
   },
   "source": "from sklearn.preprocessing import StandardScaler\n\nlist_columns_transform = []\nfor column in ['OverallQual', 'TotRmsAbvGrd', 'GarageArea', 'SalePrice']:\n    scaler = StandardScaler()\n    df_train_sin_extremos[column + '_Z'] = scaler.fit_transform(df_train_sin_extremos[[column]])\n    list_columns_transform.append(column + '_Z')",
   "outputs": [
    {
     "name": "stderr",
     "text": "/shared-libs/python3.7/py-core/lib/python3.7/site-packages/ipykernel_launcher.py:6: SettingWithCopyWarning: \nA value is trying to be set on a copy of a slice from a DataFrame.\nTry using .loc[row_indexer,col_indexer] = value instead\n\nSee the caveats in the documentation: https://pandas.pydata.org/pandas-docs/stable/user_guide/indexing.html#returning-a-view-versus-a-copy\n  \n/shared-libs/python3.7/py-core/lib/python3.7/site-packages/ipykernel_launcher.py:6: SettingWithCopyWarning: \nA value is trying to be set on a copy of a slice from a DataFrame.\nTry using .loc[row_indexer,col_indexer] = value instead\n\nSee the caveats in the documentation: https://pandas.pydata.org/pandas-docs/stable/user_guide/indexing.html#returning-a-view-versus-a-copy\n  \n/shared-libs/python3.7/py-core/lib/python3.7/site-packages/ipykernel_launcher.py:6: SettingWithCopyWarning: \nA value is trying to be set on a copy of a slice from a DataFrame.\nTry using .loc[row_indexer,col_indexer] = value instead\n\nSee the caveats in the documentation: https://pandas.pydata.org/pandas-docs/stable/user_guide/indexing.html#returning-a-view-versus-a-copy\n  \n/shared-libs/python3.7/py-core/lib/python3.7/site-packages/ipykernel_launcher.py:6: SettingWithCopyWarning: \nA value is trying to be set on a copy of a slice from a DataFrame.\nTry using .loc[row_indexer,col_indexer] = value instead\n\nSee the caveats in the documentation: https://pandas.pydata.org/pandas-docs/stable/user_guide/indexing.html#returning-a-view-versus-a-copy\n  \n",
     "output_type": "stream"
    }
   ],
   "execution_count": null
  },
  {
   "cell_type": "code",
   "metadata": {
    "tags": [],
    "cell_id": "00004-d7b15e5d-43fa-4736-946c-bcfa4dce5657",
    "deepnote_to_be_reexecuted": false,
    "source_hash": "2722a1c7",
    "execution_start": 1628914358039,
    "execution_millis": 336,
    "deepnote_cell_type": "code"
   },
   "source": "df_train_sin_extremos['MSSubClass'].hist(figsize=(10,5))",
   "outputs": [
    {
     "output_type": "execute_result",
     "execution_count": 16,
     "data": {
      "text/plain": "<AxesSubplot:>"
     },
     "metadata": {}
    },
    {
     "data": {
      "text/plain": "<Figure size 720x360 with 1 Axes>",
      "image/png": "[encoded data removed]"
     },
     "metadata": {
      "image/png": {
       "width": 602,
       "height": 307
      }
     },
     "output_type": "display_data"
    }
   ],
   "execution_count": null
  },
  {
   "cell_type": "markdown",
   "source": "Normalizacion No Lineal\n- OverallCond\n- LotFrontage\n- LotArea\n- MasVnrArea\n- BsmtFinSF1\n- BsmtUnfSF\n- TotalBsmtSF\n- 1stFlrSF\n- 2ndFlrSF\n- LowQualFinSF\n- GrLivArea\n- BsmtFullBath\n- BsmtHalfBath\n- FullBath\n- HalfBath\n- BedroomAbvGr\n- KitchenAbvGr\n- Fireplaces\n- WoodDeckSF\n- OpenPorchSF\n- EnclosedPorch\n- 3SsnPorch\n- ScreenPorch\n\n\nInvestigar las variables de año\n- YearBuilt\n- YearRemodAdd\n- YrSold\n\nInvestigar por que estas pueden ser categoricas\n- MSSubClass",
   "metadata": {
    "tags": [],
    "cell_id": "00014-7a512e43-4902-44f7-bbe3-e86a5ee81575",
    "deepnote_cell_type": "markdown"
   }
  },
  {
   "cell_type": "code",
   "source": "from sklearn.preprocessing import RobustScaler\n\nfor column in ['OverallCond', 'LotFrontage','LotArea','MasVnrArea', 'BsmtFinSF1', \n                'BsmtUnfSF', 'TotalBsmtSF', '1stFlrSF', '2ndFlrSF', 'LowQualFinSF', \n                'GrLivArea', 'BsmtFullBath', 'BsmtHalfBath', 'FullBath', 'HalfBath', \n                'BedroomAbvGr', 'KitchenAbvGr', 'Fireplaces', 'WoodDeckSF', 'OpenPorchSF', \n                'EnclosedPorch','3SsnPorch','ScreenPorch', 'YearBuilt', 'YearRemodAdd', 'YrSold']:\n    scaler = StandardScaler()\n    df_train_sin_extremos[column +'_Z'] = scaler.fit_transform(df_train_sin_extremos[[column]])\n    list_columns_transform.append(column + '_Z')\n",
   "metadata": {
    "tags": [],
    "cell_id": "00011-f1d361e5-79a1-4989-a0b7-93fc985024cc",
    "deepnote_to_be_reexecuted": false,
    "source_hash": "b6a82c21",
    "execution_start": 1628913060367,
    "execution_millis": 171,
    "deepnote_cell_type": "code"
   },
   "outputs": [
    {
     "name": "stderr",
     "text": "/shared-libs/python3.7/py-core/lib/python3.7/site-packages/ipykernel_launcher.py:9: SettingWithCopyWarning: \nA value is trying to be set on a copy of a slice from a DataFrame.\nTry using .loc[row_indexer,col_indexer] = value instead\n\nSee the caveats in the documentation: https://pandas.pydata.org/pandas-docs/stable/user_guide/indexing.html#returning-a-view-versus-a-copy\n  if __name__ == '__main__':\n/shared-libs/python3.7/py-core/lib/python3.7/site-packages/ipykernel_launcher.py:9: SettingWithCopyWarning: \nA value is trying to be set on a copy of a slice from a DataFrame.\nTry using .loc[row_indexer,col_indexer] = value instead\n\nSee the caveats in the documentation: https://pandas.pydata.org/pandas-docs/stable/user_guide/indexing.html#returning-a-view-versus-a-copy\n  if __name__ == '__main__':\n/shared-libs/python3.7/py-core/lib/python3.7/site-packages/ipykernel_launcher.py:9: SettingWithCopyWarning: \nA value is trying to be set on a copy of a slice from a DataFrame.\nTry using .loc[row_indexer,col_indexer] = value instead\n\nSee the caveats in the documentation: https://pandas.pydata.org/pandas-docs/stable/user_guide/indexing.html#returning-a-view-versus-a-copy\n  if __name__ == '__main__':\n/shared-libs/python3.7/py-core/lib/python3.7/site-packages/ipykernel_launcher.py:9: SettingWithCopyWarning: \nA value is trying to be set on a copy of a slice from a DataFrame.\nTry using .loc[row_indexer,col_indexer] = value instead\n\nSee the caveats in the documentation: https://pandas.pydata.org/pandas-docs/stable/user_guide/indexing.html#returning-a-view-versus-a-copy\n  if __name__ == '__main__':\n/shared-libs/python3.7/py-core/lib/python3.7/site-packages/ipykernel_launcher.py:9: SettingWithCopyWarning: \nA value is trying to be set on a copy of a slice from a DataFrame.\nTry using .loc[row_indexer,col_indexer] = value instead\n\nSee the caveats in the documentation: https://pandas.pydata.org/pandas-docs/stable/user_guide/indexing.html#returning-a-view-versus-a-copy\n  if __name__ == '__main__':\n/shared-libs/python3.7/py-core/lib/python3.7/site-packages/ipykernel_launcher.py:9: SettingWithCopyWarning: \nA value is trying to be set on a copy of a slice from a DataFrame.\nTry using .loc[row_indexer,col_indexer] = value instead\n\nSee the caveats in the documentation: https://pandas.pydata.org/pandas-docs/stable/user_guide/indexing.html#returning-a-view-versus-a-copy\n  if __name__ == '__main__':\n/shared-libs/python3.7/py-core/lib/python3.7/site-packages/ipykernel_launcher.py:9: SettingWithCopyWarning: \nA value is trying to be set on a copy of a slice from a DataFrame.\nTry using .loc[row_indexer,col_indexer] = value instead\n\nSee the caveats in the documentation: https://pandas.pydata.org/pandas-docs/stable/user_guide/indexing.html#returning-a-view-versus-a-copy\n  if __name__ == '__main__':\n/shared-libs/python3.7/py-core/lib/python3.7/site-packages/ipykernel_launcher.py:9: SettingWithCopyWarning: \nA value is trying to be set on a copy of a slice from a DataFrame.\nTry using .loc[row_indexer,col_indexer] = value instead\n\nSee the caveats in the documentation: https://pandas.pydata.org/pandas-docs/stable/user_guide/indexing.html#returning-a-view-versus-a-copy\n  if __name__ == '__main__':\n/shared-libs/python3.7/py-core/lib/python3.7/site-packages/ipykernel_launcher.py:9: SettingWithCopyWarning: \nA value is trying to be set on a copy of a slice from a DataFrame.\nTry using .loc[row_indexer,col_indexer] = value instead\n\nSee the caveats in the documentation: https://pandas.pydata.org/pandas-docs/stable/user_guide/indexing.html#returning-a-view-versus-a-copy\n  if __name__ == '__main__':\n/shared-libs/python3.7/py-core/lib/python3.7/site-packages/ipykernel_launcher.py:9: SettingWithCopyWarning: \nA value is trying to be set on a copy of a slice from a DataFrame.\nTry using .loc[row_indexer,col_indexer] = value instead\n\nSee the caveats in the documentation: https://pandas.pydata.org/pandas-docs/stable/user_guide/indexing.html#returning-a-view-versus-a-copy\n  if __name__ == '__main__':\n/shared-libs/python3.7/py-core/lib/python3.7/site-packages/ipykernel_launcher.py:9: SettingWithCopyWarning: \nA value is trying to be set on a copy of a slice from a DataFrame.\nTry using .loc[row_indexer,col_indexer] = value instead\n\nSee the caveats in the documentation: https://pandas.pydata.org/pandas-docs/stable/user_guide/indexing.html#returning-a-view-versus-a-copy\n  if __name__ == '__main__':\n/shared-libs/python3.7/py-core/lib/python3.7/site-packages/ipykernel_launcher.py:9: SettingWithCopyWarning: \nA value is trying to be set on a copy of a slice from a DataFrame.\nTry using .loc[row_indexer,col_indexer] = value instead\n\nSee the caveats in the documentation: https://pandas.pydata.org/pandas-docs/stable/user_guide/indexing.html#returning-a-view-versus-a-copy\n  if __name__ == '__main__':\n/shared-libs/python3.7/py-core/lib/python3.7/site-packages/ipykernel_launcher.py:9: SettingWithCopyWarning: \nA value is trying to be set on a copy of a slice from a DataFrame.\nTry using .loc[row_indexer,col_indexer] = value instead\n\nSee the caveats in the documentation: https://pandas.pydata.org/pandas-docs/stable/user_guide/indexing.html#returning-a-view-versus-a-copy\n  if __name__ == '__main__':\n/shared-libs/python3.7/py-core/lib/python3.7/site-packages/ipykernel_launcher.py:9: SettingWithCopyWarning: \nA value is trying to be set on a copy of a slice from a DataFrame.\nTry using .loc[row_indexer,col_indexer] = value instead\n\nSee the caveats in the documentation: https://pandas.pydata.org/pandas-docs/stable/user_guide/indexing.html#returning-a-view-versus-a-copy\n  if __name__ == '__main__':\n/shared-libs/python3.7/py-core/lib/python3.7/site-packages/ipykernel_launcher.py:9: SettingWithCopyWarning: \nA value is trying to be set on a copy of a slice from a DataFrame.\nTry using .loc[row_indexer,col_indexer] = value instead\n\nSee the caveats in the documentation: https://pandas.pydata.org/pandas-docs/stable/user_guide/indexing.html#returning-a-view-versus-a-copy\n  if __name__ == '__main__':\n/shared-libs/python3.7/py-core/lib/python3.7/site-packages/ipykernel_launcher.py:9: SettingWithCopyWarning: \nA value is trying to be set on a copy of a slice from a DataFrame.\nTry using .loc[row_indexer,col_indexer] = value instead\n\nSee the caveats in the documentation: https://pandas.pydata.org/pandas-docs/stable/user_guide/indexing.html#returning-a-view-versus-a-copy\n  if __name__ == '__main__':\n/shared-libs/python3.7/py-core/lib/python3.7/site-packages/ipykernel_launcher.py:9: SettingWithCopyWarning: \nA value is trying to be set on a copy of a slice from a DataFrame.\nTry using .loc[row_indexer,col_indexer] = value instead\n\nSee the caveats in the documentation: https://pandas.pydata.org/pandas-docs/stable/user_guide/indexing.html#returning-a-view-versus-a-copy\n  if __name__ == '__main__':\n/shared-libs/python3.7/py-core/lib/python3.7/site-packages/ipykernel_launcher.py:9: SettingWithCopyWarning: \nA value is trying to be set on a copy of a slice from a DataFrame.\nTry using .loc[row_indexer,col_indexer] = value instead\n\nSee the caveats in the documentation: https://pandas.pydata.org/pandas-docs/stable/user_guide/indexing.html#returning-a-view-versus-a-copy\n  if __name__ == '__main__':\n/shared-libs/python3.7/py-core/lib/python3.7/site-packages/ipykernel_launcher.py:9: SettingWithCopyWarning: \nA value is trying to be set on a copy of a slice from a DataFrame.\nTry using .loc[row_indexer,col_indexer] = value instead\n\nSee the caveats in the documentation: https://pandas.pydata.org/pandas-docs/stable/user_guide/indexing.html#returning-a-view-versus-a-copy\n  if __name__ == '__main__':\n/shared-libs/python3.7/py-core/lib/python3.7/site-packages/ipykernel_launcher.py:9: SettingWithCopyWarning: \nA value is trying to be set on a copy of a slice from a DataFrame.\nTry using .loc[row_indexer,col_indexer] = value instead\n\nSee the caveats in the documentation: https://pandas.pydata.org/pandas-docs/stable/user_guide/indexing.html#returning-a-view-versus-a-copy\n  if __name__ == '__main__':\n/shared-libs/python3.7/py-core/lib/python3.7/site-packages/ipykernel_launcher.py:9: SettingWithCopyWarning: \nA value is trying to be set on a copy of a slice from a DataFrame.\nTry using .loc[row_indexer,col_indexer] = value instead\n\nSee the caveats in the documentation: https://pandas.pydata.org/pandas-docs/stable/user_guide/indexing.html#returning-a-view-versus-a-copy\n  if __name__ == '__main__':\n/shared-libs/python3.7/py-core/lib/python3.7/site-packages/ipykernel_launcher.py:9: SettingWithCopyWarning: \nA value is trying to be set on a copy of a slice from a DataFrame.\nTry using .loc[row_indexer,col_indexer] = value instead\n\nSee the caveats in the documentation: https://pandas.pydata.org/pandas-docs/stable/user_guide/indexing.html#returning-a-view-versus-a-copy\n  if __name__ == '__main__':\n/shared-libs/python3.7/py-core/lib/python3.7/site-packages/ipykernel_launcher.py:9: SettingWithCopyWarning: \nA value is trying to be set on a copy of a slice from a DataFrame.\nTry using .loc[row_indexer,col_indexer] = value instead\n\nSee the caveats in the documentation: https://pandas.pydata.org/pandas-docs/stable/user_guide/indexing.html#returning-a-view-versus-a-copy\n  if __name__ == '__main__':\n/shared-libs/python3.7/py-core/lib/python3.7/site-packages/ipykernel_launcher.py:9: SettingWithCopyWarning: \nA value is trying to be set on a copy of a slice from a DataFrame.\nTry using .loc[row_indexer,col_indexer] = value instead\n\nSee the caveats in the documentation: https://pandas.pydata.org/pandas-docs/stable/user_guide/indexing.html#returning-a-view-versus-a-copy\n  if __name__ == '__main__':\n/shared-libs/python3.7/py-core/lib/python3.7/site-packages/ipykernel_launcher.py:9: SettingWithCopyWarning: \nA value is trying to be set on a copy of a slice from a DataFrame.\nTry using .loc[row_indexer,col_indexer] = value instead\n\nSee the caveats in the documentation: https://pandas.pydata.org/pandas-docs/stable/user_guide/indexing.html#returning-a-view-versus-a-copy\n  if __name__ == '__main__':\n/shared-libs/python3.7/py-core/lib/python3.7/site-packages/ipykernel_launcher.py:9: SettingWithCopyWarning: \nA value is trying to be set on a copy of a slice from a DataFrame.\nTry using .loc[row_indexer,col_indexer] = value instead\n\nSee the caveats in the documentation: https://pandas.pydata.org/pandas-docs/stable/user_guide/indexing.html#returning-a-view-versus-a-copy\n  if __name__ == '__main__':\n",
     "output_type": "stream"
    }
   ],
   "execution_count": null
  },
  {
   "cell_type": "code",
   "source": "df_train_sin_extremos.MSSubClass",
   "metadata": {
    "tags": [],
    "cell_id": "00012-a113a061-6ca6-451d-b7da-840bf31fb08e",
    "deepnote_to_be_reexecuted": false,
    "source_hash": "8019e9e2",
    "execution_start": 1628913081422,
    "execution_millis": 18,
    "deepnote_cell_type": "code"
   },
   "outputs": [
    {
     "output_type": "execute_result",
     "execution_count": 15,
     "data": {
      "text/plain": "0       60\n1       20\n2       60\n3       70\n4       60\n        ..\n1455    60\n1456    20\n1457    70\n1458    20\n1459    20\nName: MSSubClass, Length: 1399, dtype: int64"
     },
     "metadata": {}
    }
   ],
   "execution_count": null
  },
  {
   "cell_type": "markdown",
   "source": "<a style='text-decoration:none;line-height:16px;display:flex;color:#5B5B62;padding:10px;justify-content:end;' href='https://deepnote.com?utm_source=created-in-deepnote-cell&projectId=4ca88cd5-d9cc-4716-8d32-a384710d5eb3' target=\"_blank\">\n<img alt='Created in deepnote.com' style='display:inline;max-height:16px;margin:0px;margin-right:7.5px;' src='data:image/svg+xml;base64,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' > </img>\nCreated in <span style='font-weight:600;margin-left:4px;'>Deepnote</span></a>",
   "metadata": {
    "tags": [],
    "created_in_deepnote_cell": true,
    "deepnote_cell_type": "markdown"
   }
  }
 ],
 "nbformat": 4,
 "nbformat_minor": 2,
 "metadata": {
  "orig_nbformat": 2,
  "deepnote": {
   "is_reactive": false
  },
  "deepnote_notebook_id": "a5d43fab-14aa-4810-9fef-981f05d5f629",
  "deepnote_execution_queue": []
 }
}